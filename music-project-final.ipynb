{
 "cells": [
  {
   "cell_type": "markdown",
   "metadata": {
    "id": "jdNSfq_3X4eB"
   },
   "source": [
    "# Import all basic libraries"
   ]
  },
  {
   "cell_type": "markdown",
   "metadata": {
    "id": "UP2jW7FwX4eH"
   },
   "source": [
    "First, we will import libraries that we need to start our workflow. The libraries we are using are:\n",
    "\n",
    "    NumPy\n",
    "    Pandas\n",
    "    Matplotlib\n",
    "    seaborn\n"
   ]
  },
  {
   "cell_type": "code",
   "execution_count": 1,
   "metadata": {
    "execution": {
     "iopub.execute_input": "2022-07-23T13:24:12.068018Z",
     "iopub.status.busy": "2022-07-23T13:24:12.067299Z",
     "iopub.status.idle": "2022-07-23T13:24:23.947227Z",
     "shell.execute_reply": "2022-07-23T13:24:23.946152Z",
     "shell.execute_reply.started": "2022-07-23T13:24:12.067888Z"
    },
    "id": "xpXt4WiDX4eI",
    "outputId": "470e8ef2-95fa-4d5f-e66e-82678284396b"
   },
   "outputs": [],
   "source": [
    "import pandas as pd \n",
    "import numpy as np\n",
    "\n",
    "\n",
    "import matplotlib.pyplot as plt\n",
    "import seaborn as sns\n",
    "\n",
    "\n",
    "from sklearn import preprocessing\n",
    "from sklearn.preprocessing import OrdinalEncoder\n",
    "from sklearn.preprocessing import LabelEncoder\n",
    "from sklearn.preprocessing import OneHotEncoder\n",
    "from sklearn.impute import SimpleImputer\n",
    "from sklearn.pipeline import Pipeline\n",
    "from sklearn.preprocessing import StandardScaler, MinMaxScaler\n",
    "from sklearn.preprocessing import StandardScaler,RobustScaler\n",
    "\n",
    "# from pycaret.classification import *\n",
    "\n",
    "from sklearn.dummy import DummyClassifier\n",
    "from sklearn.linear_model import LogisticRegression\n",
    "from sklearn.linear_model import SGDClassifier,RidgeClassifier,Ridge\n",
    "from sklearn.neighbors import KNeighborsClassifier\n",
    "from sklearn.svm import SVC,LinearSVC\n",
    "from sklearn.naive_bayes import GaussianNB\n",
    "\n",
    "from sklearn.tree import  DecisionTreeClassifier\n",
    "\n",
    "\n",
    "from sklearn.ensemble import VotingClassifier\n",
    "from sklearn.ensemble import AdaBoostClassifier,RandomForestClassifier,BaggingClassifier,ExtraTreesClassifier,GradientBoostingClassifier,HistGradientBoostingClassifier,StackingClassifier\n",
    "\n",
    "from sklearn.experimental import enable_hist_gradient_boosting\n",
    "from xgboost import XGBClassifier ,plot_importance\n",
    "from lightgbm import LGBMClassifier\n",
    "\n",
    "\n",
    "from sklearn.model_selection import train_test_split\n",
    "from sklearn.metrics import accuracy_score,f1_score,precision_score,recall_score\n",
    "from sklearn.metrics import confusion_matrix\n",
    "from sklearn.metrics import classification_report\n",
    "\n",
    "\n",
    "from sklearn.model_selection import cross_val_score\n",
    "from sklearn.model_selection import GridSearchCV\n",
    "\n",
    "\n",
    "import keras\n",
    "from keras.models import Sequential\n",
    "from keras.layers import Dense\n",
    "from keras.utils.np_utils import to_categorical"
   ]
  },
  {
   "cell_type": "markdown",
   "metadata": {
    "id": "LiVUqHpZX4eK"
   },
   "source": [
    "# Loading the Data"
   ]
  },
  {
   "cell_type": "code",
   "execution_count": 2,
   "metadata": {
    "execution": {
     "iopub.execute_input": "2022-07-23T13:24:23.950459Z",
     "iopub.status.busy": "2022-07-23T13:24:23.948983Z",
     "iopub.status.idle": "2022-07-23T13:24:24.088907Z",
     "shell.execute_reply": "2022-07-23T13:24:24.087908Z",
     "shell.execute_reply.started": "2022-07-23T13:24:23.950422Z"
    },
    "id": "X_bLdjflX4eL"
   },
   "outputs": [],
   "source": [
    "train=pd.read_csv('../input/music-project-genre/train (1).csv')\n",
    "test=pd.read_csv('../input/music-project-genre/test (2).csv')"
   ]
  },
  {
   "cell_type": "markdown",
   "metadata": {
    "id": "15zrC1raX4eL"
   },
   "source": [
    "# EDA (Exploratory Data Analysis)\n",
    "For making a proper undertanding of dataset we are using, we will perform a bief EDA (Exploratory Data Analysis). The EDA is sub-divided into:\n",
    "\n",
    "    Data Visuals\n",
    "    Data Understanding\n",
    "    Data Analysis"
   ]
  },
  {
   "cell_type": "code",
   "execution_count": 3,
   "metadata": {
    "execution": {
     "iopub.execute_input": "2022-07-23T13:24:24.091395Z",
     "iopub.status.busy": "2022-07-23T13:24:24.090460Z",
     "iopub.status.idle": "2022-07-23T13:24:24.119525Z",
     "shell.execute_reply": "2022-07-23T13:24:24.118501Z",
     "shell.execute_reply.started": "2022-07-23T13:24:24.091360Z"
    },
    "id": "5haENUI0X4eM"
   },
   "outputs": [],
   "source": [
    "train.head()"
   ]
  },
  {
   "cell_type": "code",
   "execution_count": 4,
   "metadata": {
    "execution": {
     "iopub.execute_input": "2022-07-23T13:24:24.122532Z",
     "iopub.status.busy": "2022-07-23T13:24:24.122016Z",
     "iopub.status.idle": "2022-07-23T13:24:24.146873Z",
     "shell.execute_reply": "2022-07-23T13:24:24.145763Z",
     "shell.execute_reply.started": "2022-07-23T13:24:24.122488Z"
    },
    "id": "hMQHWaedX4eO"
   },
   "outputs": [],
   "source": [
    "test.head()"
   ]
  },
  {
   "cell_type": "code",
   "execution_count": null,
   "metadata": {
    "execution": {
     "iopub.execute_input": "2022-07-01T10:52:25.811838Z",
     "iopub.status.busy": "2022-07-01T10:52:25.811440Z",
     "iopub.status.idle": "2022-07-01T10:52:25.818695Z",
     "shell.execute_reply": "2022-07-01T10:52:25.817461Z",
     "shell.execute_reply.started": "2022-07-01T10:52:25.811806Z"
    },
    "id": "_f9E49roX4eP"
   },
   "outputs": [],
   "source": [
    "train.shape"
   ]
  },
  {
   "cell_type": "code",
   "execution_count": null,
   "metadata": {
    "execution": {
     "iopub.execute_input": "2022-07-01T10:52:27.713373Z",
     "iopub.status.busy": "2022-07-01T10:52:27.712461Z",
     "iopub.status.idle": "2022-07-01T10:52:27.720624Z",
     "shell.execute_reply": "2022-07-01T10:52:27.719478Z",
     "shell.execute_reply.started": "2022-07-01T10:52:27.713334Z"
    },
    "id": "lyzzE4yaX4eQ"
   },
   "outputs": [],
   "source": [
    "print('Number of Rows (Samples): %s' % str((train.shape[0])))\n",
    "print('Number of Columns (Features): %s' % str((train.shape[1])))"
   ]
  },
  {
   "cell_type": "markdown",
   "metadata": {
    "id": "TomuzrdzX4eR"
   },
   "source": [
    "## features\n",
    "\n",
    "* artist: Name of the Artist.\n",
    "* song: Name of the Track.\n",
    "* popularity: The higher the value the more popular the song is.\n",
    "* danceability: Danceability describes how suitable a track is for dancing based on a combination of musical elements including tempo, rhythm\n",
    "* energy: Energy is a measure from 0.0 to 1.0 and represents a perceptual measure of intensity and activity.\n",
    "* key: The key the track is in. Integers map to pitches using standard Pitch Class notation. E.g. 0 = C, 1 = C♯/D♭, 2 = D, and so on..\n",
    "* loudness: The overall loudness of a track in decibels (dB). Loudness values are averaged across the entire track and are useful for comparing relative\n",
    "* mode: Mode indicates the modality (major or minor) of a track, the type of scale from which its melodic content is derived. Major is represented by 1 and minor is 0.\n",
    "* speechiness: Speechiness detects the presence of spoken words in a track. The more exclusively speech-like the recording (e.g. talk show, audio book, poetry), the closer to 1.0 the attribute value. Values above 0.66 describe tracks that are probably made entirely of spoken words. Values between 0.33 and 0.66 describe tracks that may contain both music and speech, either in sections or layered, including such cases as rap music. Values below 0.33 most likely represent music and other non-speech-like tracks.\n",
    "\n",
    "* acousticness: A confidence measure from 0.0 to 1.0 of whether the track is acoustic. 1.0 represents high confidence the track is acoustic.\n",
    "\n",
    "* instrumentalness: Predicts whether a track contains no vocals. \"Ooh\" and \"aah\" sounds are treated as instrumental in this context. Rap or spoken word tracks are clearly \"vocal\". The closer the instrumentalness value is to 1.0, the greater likelihood the track contains no vocal content. Values above 0.5 are intended to represent instrumental tracks, but confidence is higher as the value approaches 1.0.\n",
    "\n",
    "* liveness: Detects the presence of an audience in the recording. Higher liveness values represent an increased probability that the track was performed live. A value above 0.8 provides strong likelihood that the track is live.\n",
    "\n",
    "* valence: A measure from 0.0 to 1.0 describing the musical positiveness conveyed by a track. Tracks with high valence sound more positive (e.g. happy, cheerful, euphoric), while tracks with low valence sound more negative (e.g. sad, depressed, angry).\n",
    "\n",
    "* tempo: The overall estimated tempo of a track in beats per minute (BPM). In musical terminology, tempo is the speed or pace of a given piece and derives directly from the average beat duration.\n",
    "\n",
    "* duration in milliseconds :Time of the song\n",
    "\n",
    "* time_signature : a notational convention used in Western musical notation to specify how many beats (pulses) are contained in each measure (bar), and which note value is equivalent to a beat.\n",
    "\n",
    "* Class: Genre of the track."
   ]
  },
  {
   "cell_type": "code",
   "execution_count": 5,
   "metadata": {
    "execution": {
     "iopub.execute_input": "2022-07-23T13:29:05.630923Z",
     "iopub.status.busy": "2022-07-23T13:29:05.630378Z",
     "iopub.status.idle": "2022-07-23T13:29:05.667398Z",
     "shell.execute_reply": "2022-07-23T13:29:05.665626Z",
     "shell.execute_reply.started": "2022-07-23T13:29:05.630881Z"
    },
    "id": "ZplJP1vZX4eS"
   },
   "outputs": [],
   "source": [
    "train.info()"
   ]
  },
  {
   "cell_type": "markdown",
   "metadata": {
    "id": "lf-AMcIvX4eS"
   },
   "source": [
    "The following information tells us that:\n",
    "\n",
    "    We have a data, containing 14396 entries (samples)\n",
    "    There are a total of 18 columns belinging to each sample\n",
    "    There are a type to each column, have two object\n",
    "    There are missing values in our data, which need to be filled or dropped for proper modelling (Popularity,key,instrumentalness )\n",
    "    The memory consumption of data is 2.0 MB"
   ]
  },
  {
   "cell_type": "code",
   "execution_count": 8,
   "metadata": {
    "execution": {
     "iopub.execute_input": "2022-07-23T13:29:25.928988Z",
     "iopub.status.busy": "2022-07-23T13:29:25.928177Z",
     "iopub.status.idle": "2022-07-23T13:29:25.994784Z",
     "shell.execute_reply": "2022-07-23T13:29:25.993875Z",
     "shell.execute_reply.started": "2022-07-23T13:29:25.928957Z"
    },
    "id": "-Kl1vdcQX4eT"
   },
   "outputs": [],
   "source": [
    "train.describe().T"
   ]
  },
  {
   "cell_type": "code",
   "execution_count": 7,
   "metadata": {
    "execution": {
     "iopub.execute_input": "2022-07-23T13:29:06.829090Z",
     "iopub.status.busy": "2022-07-23T13:29:06.828639Z",
     "iopub.status.idle": "2022-07-23T13:29:06.852877Z",
     "shell.execute_reply": "2022-07-23T13:29:06.851965Z",
     "shell.execute_reply.started": "2022-07-23T13:29:06.829058Z"
    },
    "id": "AN7TTZO-X4eU"
   },
   "outputs": [],
   "source": [
    "train.nunique()"
   ]
  },
  {
   "cell_type": "markdown",
   "metadata": {
    "id": "e_6dCEP3tr6p"
   },
   "source": [
    "## check if any null values in data and any duplicated data"
   ]
  },
  {
   "cell_type": "code",
   "execution_count": 9,
   "metadata": {
    "execution": {
     "iopub.execute_input": "2022-07-23T13:34:24.174653Z",
     "iopub.status.busy": "2022-07-23T13:34:24.173785Z",
     "iopub.status.idle": "2022-07-23T13:34:24.195435Z",
     "shell.execute_reply": "2022-07-23T13:34:24.194652Z",
     "shell.execute_reply.started": "2022-07-23T13:34:24.174607Z"
    },
    "id": "3cP35bpJX4eU"
   },
   "outputs": [],
   "source": [
    "train.isna().sum()"
   ]
  },
  {
   "cell_type": "code",
   "execution_count": null,
   "metadata": {
    "execution": {
     "iopub.execute_input": "2022-07-02T05:38:06.594301Z",
     "iopub.status.busy": "2022-07-02T05:38:06.593608Z",
     "iopub.status.idle": "2022-07-02T05:38:06.604110Z",
     "shell.execute_reply": "2022-07-02T05:38:06.603257Z",
     "shell.execute_reply.started": "2022-07-02T05:38:06.594268Z"
    },
    "id": "RbjBRTm2tr6p"
   },
   "outputs": [],
   "source": [
    "test.isna().sum()"
   ]
  },
  {
   "cell_type": "code",
   "execution_count": 10,
   "metadata": {
    "execution": {
     "iopub.execute_input": "2022-07-23T13:35:56.844693Z",
     "iopub.status.busy": "2022-07-23T13:35:56.844301Z",
     "iopub.status.idle": "2022-07-23T13:35:56.870456Z",
     "shell.execute_reply": "2022-07-23T13:35:56.869322Z",
     "shell.execute_reply.started": "2022-07-23T13:35:56.844655Z"
    },
    "id": "AFb87B_qX4eV"
   },
   "outputs": [],
   "source": [
    "train.duplicated().sum()"
   ]
  },
  {
   "cell_type": "code",
   "execution_count": null,
   "metadata": {
    "execution": {
     "iopub.execute_input": "2022-07-01T11:17:14.834938Z",
     "iopub.status.busy": "2022-07-01T11:17:14.834536Z",
     "iopub.status.idle": "2022-07-01T11:17:14.848589Z",
     "shell.execute_reply": "2022-07-01T11:17:14.847848Z",
     "shell.execute_reply.started": "2022-07-01T11:17:14.834907Z"
    },
    "id": "jC4QucyYtr6q"
   },
   "outputs": [],
   "source": [
    "test.duplicated().sum()"
   ]
  },
  {
   "cell_type": "code",
   "execution_count": 16,
   "metadata": {
    "execution": {
     "iopub.execute_input": "2022-07-23T14:07:06.607878Z",
     "iopub.status.busy": "2022-07-23T14:07:06.606851Z",
     "iopub.status.idle": "2022-07-23T14:07:06.617408Z",
     "shell.execute_reply": "2022-07-23T14:07:06.616425Z",
     "shell.execute_reply.started": "2022-07-23T14:07:06.607833Z"
    }
   },
   "outputs": [],
   "source": [
    "train[\"Artist Name\"].unique()"
   ]
  },
  {
   "cell_type": "code",
   "execution_count": 17,
   "metadata": {
    "execution": {
     "iopub.execute_input": "2022-07-23T14:07:07.116793Z",
     "iopub.status.busy": "2022-07-23T14:07:07.115752Z",
     "iopub.status.idle": "2022-07-23T14:07:07.127293Z",
     "shell.execute_reply": "2022-07-23T14:07:07.126513Z",
     "shell.execute_reply.started": "2022-07-23T14:07:07.116718Z"
    }
   },
   "outputs": [],
   "source": [
    "train[\"Track Name\"].unique()"
   ]
  },
  {
   "cell_type": "markdown",
   "metadata": {
    "id": "M8ItQf0LX4eV"
   },
   "source": [
    "# Data Visualizations\n",
    "After getting some useful information about our data, we now make visuals of our data to see how the trend in our data goes like. The visuals include bar plots, distribution plots, scatter plots, etc."
   ]
  },
  {
   "cell_type": "code",
   "execution_count": 11,
   "metadata": {
    "execution": {
     "iopub.execute_input": "2022-07-23T14:03:19.665870Z",
     "iopub.status.busy": "2022-07-23T14:03:19.665450Z",
     "iopub.status.idle": "2022-07-23T14:03:19.811892Z",
     "shell.execute_reply": "2022-07-23T14:03:19.810606Z",
     "shell.execute_reply.started": "2022-07-23T14:03:19.665836Z"
    },
    "id": "YmfGrPbhHrSr",
    "outputId": "49980a79-1a90-4798-b27f-59fdfd606ec1"
   },
   "outputs": [],
   "source": [
    "data_to_viz = train\n",
    "enc_1 = LabelEncoder()\n",
    "list_r = []\n",
    "list_r.extend(train['Track Name'])\n",
    "list_r.extend(test['Track Name'])\n",
    "enc_1.fit(list_r)\n",
    "data_to_viz['Track Name NUM'] = enc_1.transform(train['Track Name'].values.reshape(-1,1))\n",
    "\n",
    "list_r = []\n",
    "list_r.extend(train['Artist Name'])\n",
    "list_r.extend(test['Artist Name'])\n",
    "TN = pd.DataFrame(list_r,columns=[\"Artist Name\"])\n",
    "a = TN[\"Artist Name\"].value_counts().sort_values(ascending = True).index\n",
    "enc_2 = OrdinalEncoder(categories=[a],dtype=int)\n",
    "enc_2.fit(a.values.reshape(-1,1))\n",
    "data_to_viz['Artist Name NUM'] = enc_2.transform(train['Artist Name'].values.reshape(-1,1))"
   ]
  },
  {
   "cell_type": "markdown",
   "metadata": {
    "id": "rU6FqN8GHrSr"
   },
   "source": [
    "A histogram is a chart that plots the distribution of a numeric variable’s values as a series of bars. Each bar typically covers a range of numeric values called a bin or class; a bar’s height indicates the frequency of data points with a value within the corresponding bin."
   ]
  },
  {
   "cell_type": "code",
   "execution_count": 12,
   "metadata": {
    "execution": {
     "iopub.execute_input": "2022-07-23T14:03:26.026969Z",
     "iopub.status.busy": "2022-07-23T14:03:26.026203Z",
     "iopub.status.idle": "2022-07-23T14:03:28.502695Z",
     "shell.execute_reply": "2022-07-23T14:03:28.501611Z",
     "shell.execute_reply.started": "2022-07-23T14:03:26.026931Z"
    },
    "id": "ExVOFpH-tr6r"
   },
   "outputs": [],
   "source": [
    "data_to_viz.hist( figsize=(30,20))"
   ]
  },
  {
   "cell_type": "code",
   "execution_count": null,
   "metadata": {
    "execution": {
     "iopub.execute_input": "2022-07-23T14:03:32.788907Z",
     "iopub.status.busy": "2022-07-23T14:03:32.788173Z"
    },
    "id": "SnCRue-Vtr6r"
   },
   "outputs": [],
   "source": [
    "sns.pairplot(data_to_viz , diag_kind = 'kde')"
   ]
  },
  {
   "cell_type": "code",
   "execution_count": null,
   "metadata": {
    "execution": {
     "iopub.execute_input": "2022-07-01T11:36:39.389149Z",
     "iopub.status.busy": "2022-07-01T11:36:39.388765Z",
     "iopub.status.idle": "2022-07-01T11:36:40.015233Z",
     "shell.execute_reply": "2022-07-01T11:36:40.014241Z",
     "shell.execute_reply.started": "2022-07-01T11:36:39.389118Z"
    },
    "id": "2fSlO5aNtr6r"
   },
   "outputs": [],
   "source": [
    "# sns.factorplot(data=data_to_viz.drop([\"Id\",'duration_in min/ms'],axis=1) , kind='box' , size=7, aspect=2.5)"
   ]
  },
  {
   "cell_type": "code",
   "execution_count": null,
   "metadata": {
    "execution": {
     "iopub.execute_input": "2022-07-02T05:38:57.607249Z",
     "iopub.status.busy": "2022-07-02T05:38:57.606861Z",
     "iopub.status.idle": "2022-07-02T05:38:59.869641Z",
     "shell.execute_reply": "2022-07-02T05:38:59.868833Z",
     "shell.execute_reply.started": "2022-07-02T05:38:57.607219Z"
    },
    "id": "R0yz75eRtr6s"
   },
   "outputs": [],
   "source": [
    "# num_cols = data_to_viz.keys()\n",
    "# for i in num_cols:\n",
    "#     if data_to_viz[i].dtypes !=\"object\":\n",
    "#         plt.figure(figsize=(7,4))\n",
    "#         sns.boxplot(x=data_to_viz[i],palette=\"Set2\");\n",
    "#         plt.show()"
   ]
  },
  {
   "cell_type": "markdown",
   "metadata": {
    "id": "utAfWr6mtr6s"
   },
   "source": [
    "# Visualization every feature"
   ]
  },
  {
   "cell_type": "markdown",
   "metadata": {
    "id": "Gc2yxl7THrSs"
   },
   "source": [
    "Histogram  && Density chart for numeric column"
   ]
  },
  {
   "cell_type": "markdown",
   "metadata": {
    "id": "kAkMHYjBHrSs"
   },
   "source": [
    "## Popularity"
   ]
  },
  {
   "cell_type": "code",
   "execution_count": 20,
   "metadata": {
    "execution": {
     "iopub.execute_input": "2022-07-23T14:09:46.033129Z",
     "iopub.status.busy": "2022-07-23T14:09:46.032358Z",
     "iopub.status.idle": "2022-07-23T14:09:46.322688Z",
     "shell.execute_reply": "2022-07-23T14:09:46.321588Z",
     "shell.execute_reply.started": "2022-07-23T14:09:46.033093Z"
    },
    "id": "tVYAFEK8HrSt"
   },
   "outputs": [],
   "source": [
    "sns.distplot( a=data_to_viz[\"Popularity\"], hist=True, kde=False, rug=False )"
   ]
  },
  {
   "cell_type": "code",
   "execution_count": 21,
   "metadata": {
    "execution": {
     "iopub.execute_input": "2022-07-23T14:09:46.324703Z",
     "iopub.status.busy": "2022-07-23T14:09:46.324387Z",
     "iopub.status.idle": "2022-07-23T14:09:46.578054Z",
     "shell.execute_reply": "2022-07-23T14:09:46.576785Z",
     "shell.execute_reply.started": "2022-07-23T14:09:46.324677Z"
    },
    "id": "PUmQRF6Utr6s"
   },
   "outputs": [],
   "source": [
    "sns.kdeplot(data_to_viz[\"Popularity\"], shade=True , color='r')"
   ]
  },
  {
   "cell_type": "code",
   "execution_count": 22,
   "metadata": {
    "execution": {
     "iopub.execute_input": "2022-07-23T14:09:46.583025Z",
     "iopub.status.busy": "2022-07-23T14:09:46.581710Z",
     "iopub.status.idle": "2022-07-23T14:09:47.197893Z",
     "shell.execute_reply": "2022-07-23T14:09:47.196702Z",
     "shell.execute_reply.started": "2022-07-23T14:09:46.582989Z"
    },
    "id": "l_KJOEVIHrSt"
   },
   "outputs": [],
   "source": [
    "sns.jointplot(x=data_to_viz[\"Class\"], y=data_to_viz[\"Popularity\"], kind='scatter')"
   ]
  },
  {
   "cell_type": "code",
   "execution_count": null,
   "metadata": {
    "id": "p4jcgN13tr6t"
   },
   "outputs": [],
   "source": [
    "# sns.factorplot(x='popularity', y='Class', data=train, kind='box' ,aspect=2.5 )"
   ]
  },
  {
   "cell_type": "markdown",
   "metadata": {
    "id": "DlE3JEeeHrSt"
   },
   "source": [
    "## danceability\n"
   ]
  },
  {
   "cell_type": "code",
   "execution_count": 23,
   "metadata": {
    "execution": {
     "iopub.execute_input": "2022-07-23T14:15:55.251200Z",
     "iopub.status.busy": "2022-07-23T14:15:55.250810Z",
     "iopub.status.idle": "2022-07-23T14:15:55.487106Z",
     "shell.execute_reply": "2022-07-23T14:15:55.485967Z",
     "shell.execute_reply.started": "2022-07-23T14:15:55.251170Z"
    },
    "id": "UbUGlkDvHrSt"
   },
   "outputs": [],
   "source": [
    "sns.distplot( a=data_to_viz[\"danceability\"], hist=True, kde=False, rug=False )"
   ]
  },
  {
   "cell_type": "code",
   "execution_count": 24,
   "metadata": {
    "execution": {
     "iopub.execute_input": "2022-07-23T14:15:55.654003Z",
     "iopub.status.busy": "2022-07-23T14:15:55.653637Z",
     "iopub.status.idle": "2022-07-23T14:15:55.916741Z",
     "shell.execute_reply": "2022-07-23T14:15:55.915848Z",
     "shell.execute_reply.started": "2022-07-23T14:15:55.653974Z"
    },
    "id": "tWkrBWycHrSu"
   },
   "outputs": [],
   "source": [
    "sns.kdeplot(data_to_viz[\"danceability\"], shade=True , color='r')"
   ]
  },
  {
   "cell_type": "code",
   "execution_count": 26,
   "metadata": {
    "execution": {
     "iopub.execute_input": "2022-07-23T14:16:00.289669Z",
     "iopub.status.busy": "2022-07-23T14:16:00.289239Z",
     "iopub.status.idle": "2022-07-23T14:16:00.888666Z",
     "shell.execute_reply": "2022-07-23T14:16:00.887632Z",
     "shell.execute_reply.started": "2022-07-23T14:16:00.289626Z"
    },
    "id": "ld7stKI2HrSu"
   },
   "outputs": [],
   "source": [
    "sns.jointplot(x=data_to_viz[\"Class\"], y=data_to_viz[\"danceability\"], kind='scatter')"
   ]
  },
  {
   "cell_type": "markdown",
   "metadata": {
    "id": "kwVnok4RHrSu"
   },
   "source": [
    "## energy\n"
   ]
  },
  {
   "cell_type": "code",
   "execution_count": 27,
   "metadata": {
    "execution": {
     "iopub.execute_input": "2022-07-23T14:16:02.042323Z",
     "iopub.status.busy": "2022-07-23T14:16:02.041933Z",
     "iopub.status.idle": "2022-07-23T14:16:02.243739Z",
     "shell.execute_reply": "2022-07-23T14:16:02.242635Z",
     "shell.execute_reply.started": "2022-07-23T14:16:02.042293Z"
    },
    "id": "Xd3UFS5kHrSu"
   },
   "outputs": [],
   "source": [
    "sns.distplot( a=data_to_viz[\"energy\"], hist=True, kde=False, rug=False )"
   ]
  },
  {
   "cell_type": "code",
   "execution_count": 28,
   "metadata": {
    "execution": {
     "iopub.execute_input": "2022-07-23T14:16:05.335657Z",
     "iopub.status.busy": "2022-07-23T14:16:05.335219Z",
     "iopub.status.idle": "2022-07-23T14:16:05.610673Z",
     "shell.execute_reply": "2022-07-23T14:16:05.609554Z",
     "shell.execute_reply.started": "2022-07-23T14:16:05.335622Z"
    },
    "id": "owAs9GO1HrSv"
   },
   "outputs": [],
   "source": [
    "sns.kdeplot(data_to_viz[\"energy\"], shade=True , color='r')"
   ]
  },
  {
   "cell_type": "code",
   "execution_count": 29,
   "metadata": {
    "execution": {
     "iopub.execute_input": "2022-07-23T14:16:05.793243Z",
     "iopub.status.busy": "2022-07-23T14:16:05.792557Z",
     "iopub.status.idle": "2022-07-23T14:16:06.366167Z",
     "shell.execute_reply": "2022-07-23T14:16:06.365060Z",
     "shell.execute_reply.started": "2022-07-23T14:16:05.793193Z"
    },
    "id": "tc6R3wzGHrSv"
   },
   "outputs": [],
   "source": [
    "sns.jointplot(x=data_to_viz[\"Class\"], y=data_to_viz[\"energy\"], kind='scatter')"
   ]
  },
  {
   "cell_type": "markdown",
   "metadata": {
    "id": "CvVLK6n1HrSv"
   },
   "source": [
    "## key"
   ]
  },
  {
   "cell_type": "code",
   "execution_count": 30,
   "metadata": {
    "execution": {
     "iopub.execute_input": "2022-07-23T14:16:08.175208Z",
     "iopub.status.busy": "2022-07-23T14:16:08.174487Z",
     "iopub.status.idle": "2022-07-23T14:16:08.354608Z",
     "shell.execute_reply": "2022-07-23T14:16:08.353568Z",
     "shell.execute_reply.started": "2022-07-23T14:16:08.175165Z"
    },
    "id": "zs4p-fsRHrSv"
   },
   "outputs": [],
   "source": [
    "sns.distplot( a=data_to_viz[\"key\"], hist=True, kde=False, rug=False )"
   ]
  },
  {
   "cell_type": "code",
   "execution_count": 31,
   "metadata": {
    "execution": {
     "iopub.execute_input": "2022-07-23T14:16:08.512251Z",
     "iopub.status.busy": "2022-07-23T14:16:08.511875Z",
     "iopub.status.idle": "2022-07-23T14:16:08.769246Z",
     "shell.execute_reply": "2022-07-23T14:16:08.768008Z",
     "shell.execute_reply.started": "2022-07-23T14:16:08.512212Z"
    },
    "id": "EtL3a-D1HrSv"
   },
   "outputs": [],
   "source": [
    "sns.kdeplot(data_to_viz[\"key\"], shade=True , color='r')"
   ]
  },
  {
   "cell_type": "code",
   "execution_count": 32,
   "metadata": {
    "execution": {
     "iopub.execute_input": "2022-07-23T14:16:08.865250Z",
     "iopub.status.busy": "2022-07-23T14:16:08.864797Z",
     "iopub.status.idle": "2022-07-23T14:16:09.394423Z",
     "shell.execute_reply": "2022-07-23T14:16:09.393359Z",
     "shell.execute_reply.started": "2022-07-23T14:16:08.865219Z"
    },
    "id": "LqPkl9y_HrSv"
   },
   "outputs": [],
   "source": [
    "sns.jointplot(x=data_to_viz[\"Class\"], y=data_to_viz[\"key\"], kind='scatter')"
   ]
  },
  {
   "cell_type": "code",
   "execution_count": null,
   "metadata": {
    "execution": {
     "iopub.execute_input": "2022-07-01T12:32:25.762185Z",
     "iopub.status.busy": "2022-07-01T12:32:25.761304Z",
     "iopub.status.idle": "2022-07-01T12:32:26.397582Z",
     "shell.execute_reply": "2022-07-01T12:32:26.396651Z",
     "shell.execute_reply.started": "2022-07-01T12:32:25.762135Z"
    },
    "id": "eL3vBkJuHrSw"
   },
   "outputs": [],
   "source": [
    "# plot\n",
    "# plt.plot('Class', 'key', data=data_to_viz, linestyle='-', marker='o')\n",
    "# plt.show()"
   ]
  },
  {
   "cell_type": "code",
   "execution_count": null,
   "metadata": {
    "id": "aTVFCzVKgKJs"
   },
   "outputs": [],
   "source": [
    "# sns.countplot(x=\"key\", data=train)\n"
   ]
  },
  {
   "cell_type": "markdown",
   "metadata": {
    "id": "bcj1DRrnHrSw"
   },
   "source": [
    "## mode"
   ]
  },
  {
   "cell_type": "code",
   "execution_count": null,
   "metadata": {
    "id": "LPnZGdXp74uR"
   },
   "outputs": [],
   "source": [
    "# sns.countplot(x=\"mode\", data=train)\n"
   ]
  },
  {
   "cell_type": "code",
   "execution_count": null,
   "metadata": {
    "execution": {
     "iopub.execute_input": "2022-07-14T09:30:03.330463Z",
     "iopub.status.busy": "2022-07-14T09:30:03.330009Z",
     "iopub.status.idle": "2022-07-14T09:30:03.339423Z",
     "shell.execute_reply": "2022-07-14T09:30:03.337949Z",
     "shell.execute_reply.started": "2022-07-14T09:30:03.330430Z"
    },
    "id": "JOcOEm9pHrS7"
   },
   "outputs": [],
   "source": [
    "# train_cor['key'].isna().sum()"
   ]
  },
  {
   "cell_type": "code",
   "execution_count": null,
   "metadata": {
    "execution": {
     "iopub.execute_input": "2022-07-14T09:31:48.267256Z",
     "iopub.status.busy": "2022-07-14T09:31:48.266523Z",
     "iopub.status.idle": "2022-07-14T09:31:48.282069Z",
     "shell.execute_reply": "2022-07-14T09:31:48.280548Z",
     "shell.execute_reply.started": "2022-07-14T09:31:48.267222Z"
    }
   },
   "outputs": [],
   "source": [
    "# train_cor[['key',\"mode\"]]"
   ]
  },
  {
   "cell_type": "markdown",
   "metadata": {
    "id": "cpy-dGZBgGui"
   },
   "source": [
    "Top 10 popular songs"
   ]
  },
  {
   "cell_type": "code",
   "execution_count": null,
   "metadata": {
    "id": "qGjmN-vheX7g"
   },
   "outputs": [],
   "source": [
    "# plt.figure(figsize=(40, 15))\n",
    "# sns.set(style=\"whitegrid\")\n",
    "\n",
    "# # group by the song's name and rank them base on their popularity\n",
    "# x = train.groupby(\"Track Name\")[\"Popularity\"].mean().sort_values(ascending=False).head(10)\n",
    "# axis = sns.barplot(x=x.index, y=x)\n",
    "\n",
    "# axis.set_ylabel('Popularity', fontsize=40)\n",
    "# axis.set_xlabel('song title', fontsize=40)"
   ]
  },
  {
   "cell_type": "markdown",
   "metadata": {},
   "source": [
    "# corr"
   ]
  },
  {
   "cell_type": "code",
   "execution_count": null,
   "metadata": {
    "id": "u6Ih9PcTX4eW"
   },
   "outputs": [],
   "source": [
    "# train.corr()"
   ]
  },
  {
   "cell_type": "code",
   "execution_count": null,
   "metadata": {
    "id": "TejZzUDvX4eY"
   },
   "outputs": [],
   "source": [
    "# plt.figure(figsize = (20,20))\n",
    "# sns.heatmap(train.corr(),annot = True , cmap = 'coolwarm' );"
   ]
  },
  {
   "cell_type": "code",
   "execution_count": null,
   "metadata": {
    "execution": {
     "iopub.execute_input": "2022-07-01T17:42:56.551294Z",
     "iopub.status.busy": "2022-07-01T17:42:56.550875Z",
     "iopub.status.idle": "2022-07-01T17:42:56.580441Z",
     "shell.execute_reply": "2022-07-01T17:42:56.579522Z",
     "shell.execute_reply.started": "2022-07-01T17:42:56.551260Z"
    },
    "id": "o6Zqk-isX4eY"
   },
   "outputs": [],
   "source": [
    "# corr_matrix = train.corr()\n",
    "# corr_matrix[\"Class\"].abs().sort_values(ascending=False)"
   ]
  },
  {
   "cell_type": "code",
   "execution_count": null,
   "metadata": {
    "id": "RJDgJiUVX4eZ"
   },
   "outputs": [],
   "source": [
    "# len(train['Artist Name'].unique())"
   ]
  },
  {
   "cell_type": "code",
   "execution_count": null,
   "metadata": {
    "id": "E_JDzlEQX4eZ"
   },
   "outputs": [],
   "source": [
    "# len(train['Track Name'].unique())"
   ]
  },
  {
   "cell_type": "code",
   "execution_count": null,
   "metadata": {
    "id": "0wbtBSMgX4eZ"
   },
   "outputs": [],
   "source": [
    "# train[['Track Name','Artist Name']].describe()"
   ]
  },
  {
   "cell_type": "code",
   "execution_count": null,
   "metadata": {
    "execution": {
     "iopub.execute_input": "2022-07-01T13:51:58.867924Z",
     "iopub.status.busy": "2022-07-01T13:51:58.867460Z",
     "iopub.status.idle": "2022-07-01T13:51:58.883976Z",
     "shell.execute_reply": "2022-07-01T13:51:58.882876Z",
     "shell.execute_reply.started": "2022-07-01T13:51:58.867882Z"
    },
    "id": "J_XXMX598EZ1"
   },
   "outputs": [],
   "source": [
    "# a = train[\"Artist Name\"].value_counts().sort_values(ascending = True).index.values\n",
    "# a"
   ]
  },
  {
   "cell_type": "code",
   "execution_count": null,
   "metadata": {
    "execution": {
     "iopub.execute_input": "2022-07-01T13:51:15.748617Z",
     "iopub.status.busy": "2022-07-01T13:51:15.747912Z",
     "iopub.status.idle": "2022-07-01T13:51:15.755633Z",
     "shell.execute_reply": "2022-07-01T13:51:15.754765Z",
     "shell.execute_reply.started": "2022-07-01T13:51:15.748582Z"
    },
    "id": "HnRBw-qnHrS2"
   },
   "outputs": [],
   "source": [
    "# a.index"
   ]
  },
  {
   "cell_type": "code",
   "execution_count": null,
   "metadata": {
    "id": "9UsOx_1U-Ds5"
   },
   "outputs": [],
   "source": [
    "# best_artists=train.groupby([\"Artist Name\"]).mean()\n",
    "# best_artists=best_artists.sort_values(by=[\"Popularity\"], ascending=False)[:20]\n",
    "# best_artists[\"Popularity\"].plot(kind='barh', figsize=(15,10))"
   ]
  },
  {
   "cell_type": "code",
   "execution_count": null,
   "metadata": {
    "id": "0ICCmNNjtr6v"
   },
   "outputs": [],
   "source": [
    "# best_artists=train.groupby([\"Artist Name\"]).mean()\n",
    "# best_artists=best_artists.sort_values(by=[\"Class\"], ascending=False)[:20]\n",
    "# best_artists[\"Class\"].plot(kind='barh', figsize=(15,10))"
   ]
  },
  {
   "cell_type": "markdown",
   "metadata": {
    "id": "fiP8tn8KX4ea"
   },
   "source": [
    "# Data Preprocessing\n",
    "Data preprocessing plays an important part in the process of data science, since data may not be fully clean and can contain missing or null values. In this step, we are undergoing some preprocessing steps that will help us if there is any null or missing value in our data."
   ]
  },
  {
   "cell_type": "code",
   "execution_count": null,
   "metadata": {
    "execution": {
     "iopub.execute_input": "2022-07-14T09:40:25.130541Z",
     "iopub.status.busy": "2022-07-14T09:40:25.130069Z",
     "iopub.status.idle": "2022-07-14T09:40:25.137005Z",
     "shell.execute_reply": "2022-07-14T09:40:25.135544Z",
     "shell.execute_reply.started": "2022-07-14T09:40:25.130504Z"
    },
    "id": "KrszGfA6tr6x"
   },
   "outputs": [],
   "source": [
    "# train_cor = train"
   ]
  },
  {
   "cell_type": "code",
   "execution_count": null,
   "metadata": {
    "execution": {
     "iopub.execute_input": "2022-07-01T14:41:54.972711Z",
     "iopub.status.busy": "2022-07-01T14:41:54.971692Z",
     "iopub.status.idle": "2022-07-01T14:41:54.991508Z",
     "shell.execute_reply": "2022-07-01T14:41:54.990562Z",
     "shell.execute_reply.started": "2022-07-01T14:41:54.972672Z"
    },
    "id": "7utfDd477Oog"
   },
   "outputs": [],
   "source": [
    "# Q1 = train_cor[\"Popularity\"].quantile(0.25)\n",
    "\n",
    "# Q3 = train_cor[\"Popularity\"].quantile(0.75)\n",
    "\n",
    "# IQR = Q3 - Q1\n",
    "\n",
    "# Lower_Fence = Q1 - (1.5 * IQR)\n",
    "# print(Lower_Fence)\n",
    "# Upper_Fence = Q3 + (1.5 * IQR)\n",
    "# print(Upper_Fence)\n",
    "# print((train_cor['Popularity'] < Lower_Fence).sum())\n",
    "# print((train_cor['Popularity'] >= Upper_Fence).sum())"
   ]
  },
  {
   "cell_type": "code",
   "execution_count": null,
   "metadata": {
    "execution": {
     "iopub.execute_input": "2022-07-01T14:41:56.079291Z",
     "iopub.status.busy": "2022-07-01T14:41:56.078627Z",
     "iopub.status.idle": "2022-07-01T14:41:56.089739Z",
     "shell.execute_reply": "2022-07-01T14:41:56.088587Z",
     "shell.execute_reply.started": "2022-07-01T14:41:56.079242Z"
    },
    "id": "m73RAh55S3C4"
   },
   "outputs": [],
   "source": [
    "# Q1 = train_cor[\"danceability\"].quantile(0.25)\n",
    "\n",
    "# Q3 = train_cor[\"danceability\"].quantile(0.75)\n",
    "\n",
    "# IQR = Q3 - Q1\n",
    "\n",
    "# Lower_Fence = Q1 - (1.5 * IQR)\n",
    "# print(Lower_Fence)\n",
    "# Upper_Fence = Q3 + (1.5 * IQR)\n",
    "# print(Upper_Fence)\n",
    "# print((train_cor['danceability'] < Lower_Fence).sum())\n",
    "# print((train_cor['danceability'] >= Upper_Fence).sum())"
   ]
  },
  {
   "cell_type": "code",
   "execution_count": null,
   "metadata": {
    "execution": {
     "iopub.execute_input": "2022-07-01T14:41:56.511027Z",
     "iopub.status.busy": "2022-07-01T14:41:56.510328Z",
     "iopub.status.idle": "2022-07-01T14:41:56.521754Z",
     "shell.execute_reply": "2022-07-01T14:41:56.520859Z",
     "shell.execute_reply.started": "2022-07-01T14:41:56.510988Z"
    },
    "id": "qLSCGl5Q9O-T"
   },
   "outputs": [],
   "source": [
    "\n",
    "# Q1 = train_cor[\"loudness\"].quantile(0.25)\n",
    "\n",
    "# Q3 = train_cor[\"loudness\"].quantile(0.75)\n",
    "\n",
    "# IQR = Q3 - Q1\n",
    "\n",
    "# Lower_Fence = Q1 - (1.5 * IQR)\n",
    "# print(Lower_Fence)\n",
    "# Upper_Fence = Q3 + (1.5 * IQR)\n",
    "# print(Upper_Fence)\n",
    "# print((train_cor['loudness'] < Lower_Fence).sum())\n",
    "# print((train_cor['loudness'] >= Upper_Fence).sum())"
   ]
  },
  {
   "cell_type": "code",
   "execution_count": null,
   "metadata": {
    "execution": {
     "iopub.execute_input": "2022-07-01T14:41:57.025844Z",
     "iopub.status.busy": "2022-07-01T14:41:57.025420Z",
     "iopub.status.idle": "2022-07-01T14:41:57.037017Z",
     "shell.execute_reply": "2022-07-01T14:41:57.036054Z",
     "shell.execute_reply.started": "2022-07-01T14:41:57.025807Z"
    },
    "id": "IWtBFJYOHJZD"
   },
   "outputs": [],
   "source": [
    "\n",
    "# Q1 = train_cor[\"speechiness\"].quantile(0.25)\n",
    "\n",
    "# Q3 = train_cor[\"speechiness\"].quantile(0.75)\n",
    "\n",
    "# IQR = Q3 - Q1\n",
    "\n",
    "# Lower_Fence = Q1 - (1.5 * IQR)\n",
    "# print(Lower_Fence)\n",
    "# Upper_Fence = Q3 + (1.5 * IQR)\n",
    "# print(Upper_Fence)\n",
    "# print((train_cor['speechiness'] < Lower_Fence).sum())\n",
    "# print((train_cor['speechiness'] >= Upper_Fence).sum())"
   ]
  },
  {
   "cell_type": "code",
   "execution_count": null,
   "metadata": {
    "execution": {
     "iopub.execute_input": "2022-07-01T14:41:57.345491Z",
     "iopub.status.busy": "2022-07-01T14:41:57.344875Z",
     "iopub.status.idle": "2022-07-01T14:41:57.356870Z",
     "shell.execute_reply": "2022-07-01T14:41:57.355433Z",
     "shell.execute_reply.started": "2022-07-01T14:41:57.345449Z"
    },
    "id": "uYMwmLE1TBOp"
   },
   "outputs": [],
   "source": [
    "# Q1 = train_cor[\"instrumentalness\"].quantile(0.25)\n",
    "\n",
    "# Q3 = train_cor[\"instrumentalness\"].quantile(0.75)\n",
    "\n",
    "# IQR = Q3 - Q1\n",
    "\n",
    "# Lower_Fence = Q1 - (1.5 * IQR)\n",
    "# print(Lower_Fence)\n",
    "# Upper_Fence = Q3 + (1.5 * IQR)\n",
    "# print(Upper_Fence)\n",
    "# print((train_cor['instrumentalness'] < Lower_Fence).sum())\n",
    "# print((train_cor['instrumentalness'] >= Upper_Fence).sum())"
   ]
  },
  {
   "cell_type": "code",
   "execution_count": null,
   "metadata": {
    "execution": {
     "iopub.execute_input": "2022-07-01T14:41:57.666674Z",
     "iopub.status.busy": "2022-07-01T14:41:57.666263Z",
     "iopub.status.idle": "2022-07-01T14:41:57.678197Z",
     "shell.execute_reply": "2022-07-01T14:41:57.677229Z",
     "shell.execute_reply.started": "2022-07-01T14:41:57.666638Z"
    },
    "id": "FQSBAnSQTJTM"
   },
   "outputs": [],
   "source": [
    "# Q1 = train_cor[\"liveness\"].quantile(0.25)\n",
    "\n",
    "# Q3 = train_cor[\"liveness\"].quantile(0.75)\n",
    "\n",
    "# IQR = Q3 - Q1\n",
    "\n",
    "# Lower_Fence = Q1 - (1.5 * IQR)\n",
    "# print(Lower_Fence)\n",
    "# Upper_Fence = Q3 + (1.5 * IQR)\n",
    "# print(Upper_Fence)\n",
    "# print((train_cor['liveness'] < Lower_Fence).sum())\n",
    "# print((train_cor['liveness'] >= Upper_Fence).sum())"
   ]
  },
  {
   "cell_type": "code",
   "execution_count": null,
   "metadata": {
    "execution": {
     "iopub.execute_input": "2022-07-01T14:41:58.018971Z",
     "iopub.status.busy": "2022-07-01T14:41:58.018122Z",
     "iopub.status.idle": "2022-07-01T14:41:58.031207Z",
     "shell.execute_reply": "2022-07-01T14:41:58.030169Z",
     "shell.execute_reply.started": "2022-07-01T14:41:58.018922Z"
    },
    "id": "7aThTbSjTO-B"
   },
   "outputs": [],
   "source": [
    "# Q1 = train_cor[\"tempo\"].quantile(0.25)\n",
    "\n",
    "# Q3 = train_cor[\"tempo\"].quantile(0.75)\n",
    "\n",
    "# IQR = Q3 - Q1\n",
    "\n",
    "# Lower_Fence = Q1 - (1.5 * IQR)\n",
    "# print(Lower_Fence)\n",
    "# Upper_Fence = Q3 + (1.5 * IQR)\n",
    "# print(Upper_Fence)\n",
    "# print((train_cor['tempo'] < Lower_Fence).sum())\n",
    "# print((train_cor['tempo'] >= Upper_Fence).sum())"
   ]
  },
  {
   "cell_type": "code",
   "execution_count": null,
   "metadata": {
    "execution": {
     "iopub.execute_input": "2022-07-01T14:41:58.429982Z",
     "iopub.status.busy": "2022-07-01T14:41:58.429555Z",
     "iopub.status.idle": "2022-07-01T14:41:58.442321Z",
     "shell.execute_reply": "2022-07-01T14:41:58.441305Z",
     "shell.execute_reply.started": "2022-07-01T14:41:58.429945Z"
    },
    "id": "B0RJgHdlKGUd"
   },
   "outputs": [],
   "source": [
    "# Q1 = train_cor[\"duration_in min/ms\"].quantile(0.25)\n",
    "\n",
    "# Q3 = train_cor[\"duration_in min/ms\"].quantile(0.75)\n",
    "\n",
    "# IQR = Q3 - Q1\n",
    "\n",
    "# Lower_Fence = Q1 - (1.5 * IQR)\n",
    "# print(Lower_Fence)\n",
    "# Upper_Fence = Q3 + (1.5 * IQR)\n",
    "# print(Upper_Fence)\n",
    "# print((train_cor['duration_in min/ms'] < Lower_Fence).sum())\n",
    "# print((train_cor['duration_in min/ms'] >= Upper_Fence).sum())"
   ]
  },
  {
   "cell_type": "code",
   "execution_count": null,
   "metadata": {
    "execution": {
     "iopub.execute_input": "2022-07-01T14:41:58.873910Z",
     "iopub.status.busy": "2022-07-01T14:41:58.872829Z",
     "iopub.status.idle": "2022-07-01T14:41:58.885456Z",
     "shell.execute_reply": "2022-07-01T14:41:58.884482Z",
     "shell.execute_reply.started": "2022-07-01T14:41:58.873868Z"
    },
    "id": "5htrb7D8TZ37"
   },
   "outputs": [],
   "source": [
    "# Q1 = train_cor[\"time_signature\"].quantile(0.25)\n",
    "\n",
    "# Q3 = train_cor[\"time_signature\"].quantile(0.75)\n",
    "\n",
    "# IQR = Q3 - Q1\n",
    "\n",
    "# Lower_Fence = Q1 - (1.5 * IQR)\n",
    "# print(Lower_Fence)\n",
    "# Upper_Fence = Q3 + (1.5 * IQR)\n",
    "# print(Upper_Fence)\n",
    "# print((train_cor['time_signature'] < Lower_Fence).sum())\n",
    "# print((train_cor['time_signature'] >= Upper_Fence).sum())"
   ]
  },
  {
   "cell_type": "code",
   "execution_count": null,
   "metadata": {
    "execution": {
     "iopub.execute_input": "2022-07-14T09:38:59.757863Z",
     "iopub.status.busy": "2022-07-14T09:38:59.756919Z",
     "iopub.status.idle": "2022-07-14T09:38:59.768659Z",
     "shell.execute_reply": "2022-07-14T09:38:59.767534Z",
     "shell.execute_reply.started": "2022-07-14T09:38:59.757803Z"
    }
   },
   "outputs": [],
   "source": [
    "\n",
    "# conditions = [train_cor['mode'].eq(1) & train_cor[\"key\"].isna(),\n",
    "#               train_cor['mode'].eq(0) & train_cor[\"key\"].isna()]\n",
    "\n",
    "# what_to_do = [7.0, 11.0]\n",
    "# # else_case = \"X\"\n",
    "\n",
    "# train_cor[\"key_mode\"] = np.select(conditions, what_to_do)"
   ]
  },
  {
   "cell_type": "code",
   "execution_count": null,
   "metadata": {
    "execution": {
     "iopub.execute_input": "2022-07-14T09:39:28.220891Z",
     "iopub.status.busy": "2022-07-14T09:39:28.220398Z",
     "iopub.status.idle": "2022-07-14T09:39:28.238831Z",
     "shell.execute_reply": "2022-07-14T09:39:28.237646Z",
     "shell.execute_reply.started": "2022-07-14T09:39:28.220858Z"
    }
   },
   "outputs": [],
   "source": [
    "# train_cor[[\"key_mode\",\"mode\"]]"
   ]
  },
  {
   "cell_type": "code",
   "execution_count": null,
   "metadata": {
    "execution": {
     "iopub.execute_input": "2022-07-14T09:39:42.697890Z",
     "iopub.status.busy": "2022-07-14T09:39:42.696830Z",
     "iopub.status.idle": "2022-07-14T09:39:42.706004Z",
     "shell.execute_reply": "2022-07-14T09:39:42.704841Z",
     "shell.execute_reply.started": "2022-07-14T09:39:42.697846Z"
    }
   },
   "outputs": [],
   "source": [
    "# train_cor['key_mode'].isna().sum()"
   ]
  },
  {
   "cell_type": "code",
   "execution_count": null,
   "metadata": {
    "execution": {
     "iopub.execute_input": "2022-07-14T09:40:32.563719Z",
     "iopub.status.busy": "2022-07-14T09:40:32.562967Z",
     "iopub.status.idle": "2022-07-14T09:40:32.828912Z",
     "shell.execute_reply": "2022-07-14T09:40:32.827629Z",
     "shell.execute_reply.started": "2022-07-14T09:40:32.563684Z"
    },
    "id": "veSG5TFutr6x"
   },
   "outputs": [],
   "source": [
    "# enc_1 = LabelEncoder()\n",
    "# train_cor['Track Name_label'] = enc_1.fit_transform(train_cor['Track Name'].values.reshape(-1,1))\n",
    "\n",
    "# list_r = []\n",
    "# list_r.extend(train_cor['Track Name'])\n",
    "# list_r.extend(test['Track Name'])\n",
    "# TN = pd.DataFrame(list_r,columns=[\"Track Name\"])\n",
    "# a = TN[\"Track Name\"].value_counts().sort_values(ascending = True).index\n",
    "# enc_1 = OrdinalEncoder(categories=[a],dtype=int)\n",
    "# enc_1.fit(a.values.reshape(-1,1))\n",
    "# train_cor['Track Name_ordinal'] = enc_1.transform(train_cor['Track Name'].values.reshape(-1,1))\n",
    "\n",
    "# enc_2 = LabelEncoder()\n",
    "# train_cor['Artist Name_label'] = enc_2.fit_transform(train_cor['Artist Name'].values.reshape(-1,1))\n",
    "\n",
    "# list_r = []\n",
    "# list_r.extend(train_cor['Artist Name'])\n",
    "# list_r.extend(test['Artist Name'])\n",
    "# TN = pd.DataFrame(list_r,columns=[\"Artist Name\"])\n",
    "# a = TN[\"Artist Name\"].value_counts().sort_values(ascending = True).index\n",
    "# enc_2 = OrdinalEncoder(categories=[a],dtype=int)\n",
    "# enc_2.fit(a.values.reshape(-1,1))\n",
    "# train_cor['Artist Name_ordinal'] = enc_2.transform(train_cor['Artist Name'].values.reshape(-1,1))\n",
    "\n",
    "\n",
    "\n",
    "# train_cor['Popularity_max'] = train_cor['Popularity'].fillna(float(train_cor['Popularity'].max()))\n",
    "# train_cor['Popularity_min'] = train_cor['Popularity'].fillna(float(train_cor['Popularity'].min()))\n",
    "# train_cor['Popularity_mean'] = train_cor['Popularity'].fillna(float(train_cor['Popularity'].mean()))\n",
    "\n",
    "# train_cor['Popularity_without_outliers'] = np.where(train_cor['Popularity'] >= 90.5, 90.5, train_cor['Popularity'])\n",
    "# train_cor['Popularity_max_without_outliers'] = np.where(train_cor['Popularity_max'] >= 90.5, 90.5, train_cor['Popularity_max'])\n",
    "# train_cor['Popularity_min_without_outliers'] = np.where(train_cor['Popularity_min'] >= 90.5,90.5, train_cor['Popularity_min'])\n",
    "# train_cor['Popularity_mean_without_outliers'] = np.where(train_cor['Popularity_mean'] >= 90.5, 90.5, train_cor['Popularity_mean'])\n",
    "\n",
    "# train_cor['danceability_without_outliers'] = np.where(train_cor['danceability'] <0.09299999999999992, 0.09299999999999992, train_cor['danceability'])\n",
    "\n",
    "\n",
    "# # train_cor['key_mode'] = np.where(train_cor['mode'] == 1, 7.0, train_cor['key'])\n",
    "# # # print(train_cor['key'].isna().sum())\n",
    "# # train_cor['key_mode'] = np.where(train_cor['mode'] == 0, 11.0, train_cor['key'])\n",
    "\n",
    "# conditions = [train_cor['mode'].eq(1) & train_cor[\"key\"].isna(),\n",
    "#               train_cor['mode'].eq(0) & train_cor[\"key\"].isna()]\n",
    "\n",
    "# what_to_do = [7.0, 11.0]\n",
    "\n",
    "# train_cor[\"key_mode\"] = np.select(conditions, what_to_do)\n",
    "\n",
    "# # train_cor['key_1'] = train_cor['key'].fillna(int(1))\n",
    "# # train_cor['key_0'] = train_cor['key'].fillna(0)\n",
    "\n",
    "\n",
    "# train_cor['loudness_without_outliers'] = np.where(train_cor['loudness'] <-16.102, -16.102, train_cor['loudness'])\n",
    "\n",
    "# # train_cor['speechiness_3'] = np.where((train_cor['speechiness'] >= 0) & (train_cor['speechiness'] < 0.33),  0, train_cor['speechiness'])\n",
    "# # train_cor['speechiness_3'] = np.where((train_cor['speechiness_3'] >= 0.33) & (train_cor['speechiness_3'] < 0.66),  0.5, train_cor['speechiness_3'])\n",
    "# # train_cor['speechiness_3'] = np.where(train_cor['speechiness'] >= 0.66,  1, train_cor['speechiness'])\n",
    "\n",
    "# train_cor['speechiness_without_outliers'] = np.where(train_cor['speechiness'] >0.15554999999999997, 0.15554999999999997, train_cor['speechiness'])\n",
    "\n",
    "# train_cor['instrumentalness_min'] = train_cor['instrumentalness'].fillna(float(train_cor['instrumentalness'].min()))\n",
    "# train_cor['instrumentalness_max'] = train_cor['instrumentalness'].fillna(float(train_cor['instrumentalness'].max()))\n",
    "# train_cor['instrumentalness_mean'] = train_cor['instrumentalness'].fillna(float(train_cor['instrumentalness'].mean()))\n",
    "\n",
    "# train_cor['instrumentalness_min_without_outliers'] = np.where(train_cor['instrumentalness_min'] >0.502368675, 0.502368675, train_cor['instrumentalness_min'])\n",
    "# train_cor['instrumentalness_max_without_outliers'] = np.where(train_cor['instrumentalness_max'] >0.502368675, 0.502368675, train_cor['instrumentalness_max'])\n",
    "# train_cor['instrumentalness_mean_without_outliers'] = np.where(train_cor['instrumentalness_mean'] >0.502368675, 0.502368675, train_cor['instrumentalness_mean'])\n",
    "\n",
    "# train_cor['instrumentalness_without_outliers'] = np.where(train_cor['instrumentalness'] >0.502368675, 0.502368675, train_cor['instrumentalness'])\n",
    "\n",
    "\n",
    "# train_cor['liveness_0.8'] = np.where(train_cor['liveness'] >= 0.8, 1, train_cor['liveness'])\n",
    "# train_cor['liveness_0.8'] = np.where(train_cor['liveness_0.8'] < 0.8, 0, train_cor['liveness_0.8'])\n",
    "\n",
    "# train_cor['liveness_without_outliers'] = np.where(train_cor['liveness'] < 0.4940875, 0.4940875, train_cor['liveness'])\n",
    "\n",
    "# train_cor['tempo_without_outliers'] = np.where(train_cor['tempo'] > 205.27212499999996, 205.27212499999996, train_cor['tempo'])\n",
    "\n",
    "# train_cor['duration_in min/ms_without_outliers'] = np.where(train_cor['duration_in min/ms'] < 35243.875,35243.875, train_cor['duration_in min/ms'])\n",
    "# train_cor['duration_in min/ms_without_outliers'] = np.where(train_cor['duration_in min/ms_without_outliers'] > 382448.875,382448.875, train_cor['duration_in min/ms_without_outliers'])\n"
   ]
  },
  {
   "cell_type": "code",
   "execution_count": null,
   "metadata": {
    "execution": {
     "iopub.execute_input": "2022-07-14T09:40:33.450229Z",
     "iopub.status.busy": "2022-07-14T09:40:33.449772Z",
     "iopub.status.idle": "2022-07-14T09:40:33.497653Z",
     "shell.execute_reply": "2022-07-14T09:40:33.496697Z",
     "shell.execute_reply.started": "2022-07-14T09:40:33.450186Z"
    },
    "id": "t8vQtTA2tr6y"
   },
   "outputs": [],
   "source": [
    "# train_cor"
   ]
  },
  {
   "cell_type": "code",
   "execution_count": null,
   "metadata": {
    "execution": {
     "iopub.execute_input": "2022-07-14T09:20:12.222538Z",
     "iopub.status.busy": "2022-07-14T09:20:12.221550Z",
     "iopub.status.idle": "2022-07-14T09:20:20.083445Z",
     "shell.execute_reply": "2022-07-14T09:20:20.081968Z",
     "shell.execute_reply.started": "2022-07-14T09:20:12.222471Z"
    },
    "id": "f2kzL7jjtr6y"
   },
   "outputs": [],
   "source": [
    "# plt.figure(figsize = (20,20))\n",
    "# sns.heatmap(train_cor.corr(),annot = True , cmap = 'coolwarm' );"
   ]
  },
  {
   "cell_type": "code",
   "execution_count": null,
   "metadata": {
    "execution": {
     "iopub.execute_input": "2022-07-14T09:40:44.952932Z",
     "iopub.status.busy": "2022-07-14T09:40:44.951691Z",
     "iopub.status.idle": "2022-07-14T09:40:45.045409Z",
     "shell.execute_reply": "2022-07-14T09:40:45.044540Z",
     "shell.execute_reply.started": "2022-07-14T09:40:44.952887Z"
    },
    "id": "LZd_3-umtr6y"
   },
   "outputs": [],
   "source": [
    "# corr_matrix = train_cor.corr()\n",
    "# corr_matrix[\"Class\"].abs().sort_values(ascending=False)"
   ]
  },
  {
   "cell_type": "code",
   "execution_count": 37,
   "metadata": {
    "execution": {
     "iopub.execute_input": "2022-07-23T14:20:01.664677Z",
     "iopub.status.busy": "2022-07-23T14:20:01.664006Z",
     "iopub.status.idle": "2022-07-23T14:20:01.745220Z",
     "shell.execute_reply": "2022-07-23T14:20:01.744131Z",
     "shell.execute_reply.started": "2022-07-23T14:20:01.664640Z"
    }
   },
   "outputs": [],
   "source": [
    "train=pd.read_csv('../input/music-project-genre/train (1).csv')\n",
    "test=pd.read_csv('../input/music-project-genre/test (2).csv')"
   ]
  },
  {
   "cell_type": "code",
   "execution_count": 38,
   "metadata": {
    "execution": {
     "iopub.execute_input": "2022-07-23T14:20:03.020196Z",
     "iopub.status.busy": "2022-07-23T14:20:03.019809Z",
     "iopub.status.idle": "2022-07-23T14:20:03.210042Z",
     "shell.execute_reply": "2022-07-23T14:20:03.208628Z",
     "shell.execute_reply.started": "2022-07-23T14:20:03.020165Z"
    },
    "id": "rIA6LdlsHrS8",
    "outputId": "edfc8cf5-b12a-488d-c1fd-cd96bcb9f578"
   },
   "outputs": [],
   "source": [
    "targets = train['Class']\n",
    "enc_1 = LabelEncoder()\n",
    "list_r = []\n",
    "list_r.extend(train['Track Name'])\n",
    "list_r.extend(test['Track Name'])\n",
    "enc_1.fit(list_r)\n",
    "train['Track Name'] = enc_1.transform(train['Track Name'].values.reshape(-1,1))\n",
    "test['Track Name'] = enc_1.transform(test['Track Name'].values.reshape(-1,1))\n",
    "\n",
    "\n",
    "list_r = []\n",
    "list_r.extend(train['Artist Name'])\n",
    "list_r.extend(test['Artist Name'])\n",
    "TN = pd.DataFrame(list_r,columns=[\"Artist Name\"])\n",
    "a = TN[\"Artist Name\"].value_counts().sort_values(ascending = True).index\n",
    "enc_2 = OrdinalEncoder(categories=[a],dtype=int)\n",
    "enc_2.fit(a.values.reshape(-1,1))\n",
    "train['Artist Name'] = enc_2.transform(train['Artist Name'].values.reshape(-1,1))\n",
    "test['Artist Name'] = enc_2.transform(test['Artist Name'].values.reshape(-1,1))\n",
    "\n",
    "\n",
    "# train['Artist Name'] = pd.Categorical(train['Artist Name'])\n",
    "# categories = train['Artist Name'].cat.categories\n",
    "# test['Artist Name'] = pd.Categorical(test['Artist Name'], categories)\n",
    "\n",
    "# train['Artist Name'] = train['Artist Name'].cat.codes\n",
    "# test['Artist Name'] = test['Artist Name'].cat.codes\n",
    "\n",
    "\n",
    "# list_r = []\n",
    "# list_r.extend(train['Artist Name'])\n",
    "# list_r.extend(test['Artist Name'])\n",
    "# TN = pd.DataFrame(list_r,columns=[\"Artist Name\"])\n",
    "# TN[\"Artist Name\"] = TN[\"Artist Name\"].astype(\"category\")\n",
    "# TN[\"Artist Name\"] = TN[\"Artist Name\"].cat.codes\n",
    "\n",
    "# train['Artist Name'] = TN['Artist Name'].iloc[:len(train['Artist Name'])]\n",
    "# test['Artist Name'] = TN['Artist Name'].iloc[len(train['Artist Name']):]\n",
    "\n",
    "def clean_data(df):\n",
    "    df['Popularity'] = df['Popularity'].fillna(float(df['Popularity'].min()))\n",
    "    df['Popularity'] = np.where(df['Popularity'] >= 90.5,90.5, df['Popularity'])\n",
    "#     df['key'] = df['key'].fillna(float(df['key'].mode()))\n",
    "\n",
    "    df['danceability'] = np.where(df['danceability'] <0.09299999999999992, 0.09299999999999992, df['danceability'])\n",
    "\n",
    "#     df['key'] = np.where(df['mode'] == 1, 7.0, df['key'])\n",
    "#     df['key'] = np.where(df['mode'] == 0, 11.0, df['key'])\n",
    "\n",
    "\n",
    "    df['loudness'] = np.where(df['loudness'] <-16.102, -16.102, df['loudness'])\n",
    "\n",
    "    df['speechiness'] = np.where(df['speechiness'] >0.15554999999999997, 0.15554999999999997, df['speechiness'])\n",
    "\n",
    "    df['instrumentalness'].fillna(float(df['instrumentalness'].min()), inplace=True)\n",
    "    df['instrumentalness'] = np.where(df['instrumentalness'] >0.502368675, 0.502368675, df['instrumentalness'])\n",
    "\n",
    "    df['liveness'] = np.where(df['liveness'] < 0.4940875, 0.4940875, df['liveness'])\n",
    "    \n",
    "    df['tempo'] = np.where(df['tempo'] > 205.27212499999996, 205.27212499999996, df['tempo'])\n",
    "\n",
    "    df['duration_in min/ms'] = np.where(df['duration_in min/ms'] < 35243.875,35243.875, df['duration_in min/ms'])\n",
    "    df['duration_in min/ms'] = np.where(df['duration_in min/ms'] > 382448.875,382448.875, df['duration_in min/ms'])\n",
    "\n",
    "    return df"
   ]
  },
  {
   "cell_type": "code",
   "execution_count": 41,
   "metadata": {
    "execution": {
     "iopub.execute_input": "2022-07-23T14:20:05.273882Z",
     "iopub.status.busy": "2022-07-23T14:20:05.273499Z",
     "iopub.status.idle": "2022-07-23T14:20:05.281997Z",
     "shell.execute_reply": "2022-07-23T14:20:05.280815Z",
     "shell.execute_reply.started": "2022-07-23T14:20:05.273853Z"
    },
    "id": "nRRP9hH0X4ea"
   },
   "outputs": [],
   "source": [
    "train = clean_data(train)\n",
    "test = clean_data(test)"
   ]
  },
  {
   "cell_type": "code",
   "execution_count": 43,
   "metadata": {
    "execution": {
     "iopub.execute_input": "2022-07-23T14:20:09.358665Z",
     "iopub.status.busy": "2022-07-23T14:20:09.357248Z",
     "iopub.status.idle": "2022-07-23T14:20:09.383908Z",
     "shell.execute_reply": "2022-07-23T14:20:09.382801Z",
     "shell.execute_reply.started": "2022-07-23T14:20:09.358609Z"
    },
    "id": "XrmHB37wHrS-",
    "outputId": "d686095d-0960-426b-dc81-e00db383d5fc"
   },
   "outputs": [],
   "source": [
    "corr_matrix = train.corr()\n",
    "corr_matrix[\"Class\"].abs().sort_values(ascending=False)"
   ]
  },
  {
   "cell_type": "code",
   "execution_count": 44,
   "metadata": {
    "execution": {
     "iopub.execute_input": "2022-07-23T14:20:10.725085Z",
     "iopub.status.busy": "2022-07-23T14:20:10.724391Z",
     "iopub.status.idle": "2022-07-23T14:20:10.734928Z",
     "shell.execute_reply": "2022-07-23T14:20:10.733880Z",
     "shell.execute_reply.started": "2022-07-23T14:20:10.725050Z"
    },
    "id": "9-YmhWDJHrS-"
   },
   "outputs": [],
   "source": [
    "train.drop(['Id','Class',\"key\"], axis=1, inplace=True)\n",
    "test.drop(['Id',\"key\"], axis=1, inplace=True)"
   ]
  },
  {
   "cell_type": "code",
   "execution_count": 45,
   "metadata": {
    "execution": {
     "iopub.execute_input": "2022-07-23T14:20:11.357727Z",
     "iopub.status.busy": "2022-07-23T14:20:11.356940Z",
     "iopub.status.idle": "2022-07-23T14:20:11.388748Z",
     "shell.execute_reply": "2022-07-23T14:20:11.387787Z",
     "shell.execute_reply.started": "2022-07-23T14:20:11.357685Z"
    },
    "id": "R10JNmwwHrS-",
    "outputId": "b5549374-3b87-4b6b-ef89-9002e2f5a2a8"
   },
   "outputs": [],
   "source": [
    "train"
   ]
  },
  {
   "cell_type": "markdown",
   "metadata": {
    "id": "eruhHu9str6z"
   },
   "source": [
    "## Scale features\n",
    "Scaling data means to make all values in all variables within the same range. MinMaxScaler() (i.e., to make all values between 0 and 1) is the most widely used scaling technique. However, StandardScaler() handles much better datasets with outliers. It makes all values centered around 0 with standard deviation of 1. The steps are executed below."
   ]
  },
  {
   "cell_type": "code",
   "execution_count": 47,
   "metadata": {
    "execution": {
     "iopub.execute_input": "2022-07-23T14:20:14.492590Z",
     "iopub.status.busy": "2022-07-23T14:20:14.492165Z",
     "iopub.status.idle": "2022-07-23T14:20:14.508365Z",
     "shell.execute_reply": "2022-07-23T14:20:14.507380Z",
     "shell.execute_reply.started": "2022-07-23T14:20:14.492555Z"
    },
    "id": "0czsEk1Htr6z"
   },
   "outputs": [],
   "source": [
    "scaler = StandardScaler()\n",
    "train = scaler.fit_transform(train)\n",
    "test = scaler.transform(test)"
   ]
  },
  {
   "cell_type": "code",
   "execution_count": 48,
   "metadata": {
    "execution": {
     "iopub.execute_input": "2022-07-23T14:20:14.831839Z",
     "iopub.status.busy": "2022-07-23T14:20:14.831181Z",
     "iopub.status.idle": "2022-07-23T14:20:14.839997Z",
     "shell.execute_reply": "2022-07-23T14:20:14.838642Z",
     "shell.execute_reply.started": "2022-07-23T14:20:14.831801Z"
    },
    "id": "NZ5hz5sCX4ea",
    "outputId": "11984438-e875-49a1-e356-fd4f8e3ea5b5"
   },
   "outputs": [],
   "source": [
    "train.shape, targets.shape, test.shape"
   ]
  },
  {
   "cell_type": "code",
   "execution_count": 49,
   "metadata": {
    "execution": {
     "iopub.execute_input": "2022-07-23T14:20:15.269466Z",
     "iopub.status.busy": "2022-07-23T14:20:15.269055Z",
     "iopub.status.idle": "2022-07-23T14:20:15.286006Z",
     "shell.execute_reply": "2022-07-23T14:20:15.285099Z",
     "shell.execute_reply.started": "2022-07-23T14:20:15.269431Z"
    },
    "id": "pAOUZpSQX4eb"
   },
   "outputs": [],
   "source": [
    "X_train, X_test, y_train, y_test = train_test_split( train, targets, test_size=0.2, random_state=42,shuffle=True, stratify=targets)"
   ]
  },
  {
   "cell_type": "markdown",
   "metadata": {
    "id": "XumNLezyX4eb"
   },
   "source": [
    "# Modelling Algos"
   ]
  },
  {
   "cell_type": "code",
   "execution_count": 51,
   "metadata": {
    "execution": {
     "iopub.execute_input": "2022-07-23T14:20:25.321022Z",
     "iopub.status.busy": "2022-07-23T14:20:25.320345Z",
     "iopub.status.idle": "2022-07-23T14:20:25.326022Z",
     "shell.execute_reply": "2022-07-23T14:20:25.325077Z",
     "shell.execute_reply.started": "2022-07-23T14:20:25.320985Z"
    },
    "id": "4Sh4_1xLX4eb"
   },
   "outputs": [],
   "source": [
    "f1_score_result = []\n",
    "models = [\"DummyClassifier\",\"LogisticRegression\",'SGDClassifier' ,'RidgeClassifier', 'KNeighborsClassifier','SVC',\n",
    "          \"Naive Bayes\",'RandomForestClassifier',\n",
    "          'DecisionTreeClassifier','AdaBoostClassifier','BaggingClassifier','ExtraTreesClassifier','GradientBoostingClassifier',\n",
    "          'HistGradientBoostingClassifier','XGBClassifier','LGBMClassifier'\n",
    "         ]"
   ]
  },
  {
   "cell_type": "markdown",
   "metadata": {
    "id": "aoZ5ALiXX4ec"
   },
   "source": [
    " F1 = 2 * (precision * recall) / (precision + recall)"
   ]
  },
  {
   "cell_type": "code",
   "execution_count": 52,
   "metadata": {
    "execution": {
     "iopub.execute_input": "2022-07-23T14:20:25.717088Z",
     "iopub.status.busy": "2022-07-23T14:20:25.716203Z",
     "iopub.status.idle": "2022-07-23T14:20:25.725057Z",
     "shell.execute_reply": "2022-07-23T14:20:25.723917Z",
     "shell.execute_reply.started": "2022-07-23T14:20:25.717038Z"
    },
    "id": "9Rm12ogjX4ec"
   },
   "outputs": [],
   "source": [
    "def get_evalute(y_test,y_pred,f1_score_result):\n",
    "    print(\"accuracy_score\",accuracy_score(y_test,y_pred))\n",
    "    print(\"f1_score\",f1_score(y_test,y_pred,average=\"micro\"))\n",
    "#     print(\"f1_score\",2 * (precision_score(y_test,y_pred,average=\"micro\") * recall_score(y_test,y_pred,average=\"micro\")) / (precision_score(y_test,y_pred,average=\"micro\") + recall_score(y_test,y_pred,average=\"micro\")))\n",
    "    f1_score_result.append(f1_score(y_test,y_pred,average=\"micro\"))\n",
    "    print(\"precision_score\",precision_score(y_test,y_pred,average=\"micro\"))    \n",
    "    print(\"recall_score\",recall_score(y_test,y_pred,average=\"micro\"))\n",
    "    print(classification_report(y_test,y_pred))\n",
    "    return f1_score_result"
   ]
  },
  {
   "cell_type": "code",
   "execution_count": 53,
   "metadata": {
    "execution": {
     "iopub.execute_input": "2022-07-23T14:20:25.988278Z",
     "iopub.status.busy": "2022-07-23T14:20:25.987885Z",
     "iopub.status.idle": "2022-07-23T14:20:26.018075Z",
     "shell.execute_reply": "2022-07-23T14:20:26.017337Z",
     "shell.execute_reply.started": "2022-07-23T14:20:25.988250Z"
    },
    "id": "V9ypZ6IIX4ec",
    "outputId": "e38b745b-90db-4f60-a50c-a2b634f04cf6"
   },
   "outputs": [],
   "source": [
    "clf = DummyClassifier()\n",
    "clf.fit(X_train, y_train)\n",
    "y_pred = clf.predict(X_test)\n",
    "f1_score_result = get_evalute(y_test,y_pred,f1_score_result)"
   ]
  },
  {
   "cell_type": "code",
   "execution_count": 54,
   "metadata": {
    "execution": {
     "iopub.execute_input": "2022-07-23T14:20:26.136173Z",
     "iopub.status.busy": "2022-07-23T14:20:26.135582Z",
     "iopub.status.idle": "2022-07-23T14:20:27.564077Z",
     "shell.execute_reply": "2022-07-23T14:20:27.562950Z",
     "shell.execute_reply.started": "2022-07-23T14:20:26.136141Z"
    },
    "id": "vniiAsMEX4ed",
    "outputId": "092aadb5-36dd-4cf3-fe13-fd37ec20a2c4"
   },
   "outputs": [],
   "source": [
    "log_clf = LogisticRegression(solver=\"lbfgs\", random_state=42)\n",
    "log_clf.fit(X_train, y_train)\n",
    "y_pred = log_clf.predict(X_test)\n",
    "f1_score_result = get_evalute(y_test,y_pred,f1_score_result)"
   ]
  },
  {
   "cell_type": "code",
   "execution_count": 55,
   "metadata": {
    "execution": {
     "iopub.execute_input": "2022-07-23T14:20:27.567358Z",
     "iopub.status.busy": "2022-07-23T14:20:27.566166Z",
     "iopub.status.idle": "2022-07-23T14:20:27.712109Z",
     "shell.execute_reply": "2022-07-23T14:20:27.710888Z",
     "shell.execute_reply.started": "2022-07-23T14:20:27.567308Z"
    },
    "id": "xcLIwsK8X4ed",
    "outputId": "86aecbef-52d0-45a4-903e-8b3230ae5892"
   },
   "outputs": [],
   "source": [
    "clf = SGDClassifier(loss=\"hinge\", penalty=\"l2\", max_iter=5)\n",
    "clf.fit(X_train, y_train)\n",
    "y_pred = clf.predict(X_test)\n",
    "f1_score_result = get_evalute(y_test,y_pred,f1_score_result)"
   ]
  },
  {
   "cell_type": "code",
   "execution_count": 56,
   "metadata": {
    "execution": {
     "iopub.execute_input": "2022-07-23T14:20:27.714675Z",
     "iopub.status.busy": "2022-07-23T14:20:27.714019Z",
     "iopub.status.idle": "2022-07-23T14:20:27.798245Z",
     "shell.execute_reply": "2022-07-23T14:20:27.796852Z",
     "shell.execute_reply.started": "2022-07-23T14:20:27.714624Z"
    },
    "id": "S_6izP_-X4ed",
    "outputId": "c48a9da3-df90-494b-9696-12013b237dd8"
   },
   "outputs": [],
   "source": [
    "clf = RidgeClassifier()\n",
    "clf.fit(X_train, y_train)\n",
    "y_pred = clf.predict(X_test)\n",
    "f1_score_result = get_evalute(y_test,y_pred,f1_score_result)"
   ]
  },
  {
   "cell_type": "code",
   "execution_count": 57,
   "metadata": {
    "execution": {
     "iopub.execute_input": "2022-07-23T14:20:27.810614Z",
     "iopub.status.busy": "2022-07-23T14:20:27.806211Z",
     "iopub.status.idle": "2022-07-23T14:20:28.752718Z",
     "shell.execute_reply": "2022-07-23T14:20:28.751650Z",
     "shell.execute_reply.started": "2022-07-23T14:20:27.810527Z"
    },
    "id": "LHnMQoz6X4ee",
    "outputId": "93dd742a-8bbc-41fa-bae8-19bc3b770a2c"
   },
   "outputs": [],
   "source": [
    "clf = KNeighborsClassifier()\n",
    "clf.fit(X_train, y_train)\n",
    "y_pred = clf.predict(X_test)\n",
    "f1_score_result = get_evalute(y_test,y_pred,f1_score_result)"
   ]
  },
  {
   "cell_type": "code",
   "execution_count": 59,
   "metadata": {
    "execution": {
     "iopub.execute_input": "2022-07-23T14:20:28.760606Z",
     "iopub.status.busy": "2022-07-23T14:20:28.760280Z",
     "iopub.status.idle": "2022-07-23T14:20:38.866168Z",
     "shell.execute_reply": "2022-07-23T14:20:38.865022Z",
     "shell.execute_reply.started": "2022-07-23T14:20:28.760576Z"
    },
    "id": "6QOqIh8zX4ee",
    "outputId": "ad4ceefb-e160-4def-96cc-add5e97ad0f1"
   },
   "outputs": [],
   "source": [
    "clf = SVC()\n",
    "clf.fit(X_train, y_train)\n",
    "y_pred = clf.predict(X_test)\n",
    "f1_score_result = get_evalute(y_test,y_pred,f1_score_result)"
   ]
  },
  {
   "cell_type": "code",
   "execution_count": 60,
   "metadata": {
    "execution": {
     "iopub.execute_input": "2022-07-23T14:20:38.867992Z",
     "iopub.status.busy": "2022-07-23T14:20:38.867670Z",
     "iopub.status.idle": "2022-07-23T14:20:38.906431Z",
     "shell.execute_reply": "2022-07-23T14:20:38.905048Z",
     "shell.execute_reply.started": "2022-07-23T14:20:38.867957Z"
    },
    "id": "CE8xYs1RRySF"
   },
   "outputs": [],
   "source": [
    "# Building Naive Bayes Classifier\n",
    "naive_bayes_classifier = GaussianNB()\n",
    "naive_bayes_classifier.fit(X_train, y_train)\n",
    "y_pred = naive_bayes_classifier.predict(X_test)\n",
    "f1_score_result = get_evalute(y_test,y_pred,f1_score_result)\n"
   ]
  },
  {
   "cell_type": "code",
   "execution_count": 61,
   "metadata": {
    "execution": {
     "iopub.execute_input": "2022-07-23T14:20:38.908488Z",
     "iopub.status.busy": "2022-07-23T14:20:38.908174Z",
     "iopub.status.idle": "2022-07-23T14:20:42.640207Z",
     "shell.execute_reply": "2022-07-23T14:20:42.639005Z",
     "shell.execute_reply.started": "2022-07-23T14:20:38.908460Z"
    },
    "id": "37q5MeXJX4ee",
    "outputId": "4a38d5f4-bd8a-44fb-b8f3-2e1bc9b71ea9"
   },
   "outputs": [],
   "source": [
    "clf = RandomForestClassifier()\n",
    "clf.fit(X_train, y_train)\n",
    "y_pred = clf.predict(X_test)\n",
    "f1_score_result = get_evalute(y_test,y_pred,f1_score_result)"
   ]
  },
  {
   "cell_type": "code",
   "execution_count": 62,
   "metadata": {
    "execution": {
     "iopub.execute_input": "2022-07-23T14:20:42.642692Z",
     "iopub.status.busy": "2022-07-23T14:20:42.641961Z",
     "iopub.status.idle": "2022-07-23T14:20:42.892862Z",
     "shell.execute_reply": "2022-07-23T14:20:42.891600Z",
     "shell.execute_reply.started": "2022-07-23T14:20:42.642646Z"
    },
    "id": "tW2JapLfX4ef",
    "outputId": "620fb9bf-6753-4216-a73b-a476a9cb526e"
   },
   "outputs": [],
   "source": [
    "clf = DecisionTreeClassifier()\n",
    "clf.fit(X_train, y_train)\n",
    "y_pred = clf.predict(X_test)\n",
    "f1_score_result = get_evalute(y_test,y_pred,f1_score_result)"
   ]
  },
  {
   "cell_type": "code",
   "execution_count": 63,
   "metadata": {
    "execution": {
     "iopub.execute_input": "2022-07-23T14:20:42.898865Z",
     "iopub.status.busy": "2022-07-23T14:20:42.898124Z",
     "iopub.status.idle": "2022-07-23T14:20:44.119937Z",
     "shell.execute_reply": "2022-07-23T14:20:44.118813Z",
     "shell.execute_reply.started": "2022-07-23T14:20:42.898814Z"
    },
    "id": "qoUDE9q5X4ef",
    "outputId": "20fcca49-b922-47df-edde-6ac3dfaae574"
   },
   "outputs": [],
   "source": [
    "clf = AdaBoostClassifier()\n",
    "clf.fit(X_train, y_train)\n",
    "y_pred = clf.predict(X_test)\n",
    "f1_score_result = get_evalute(y_test,y_pred,f1_score_result)"
   ]
  },
  {
   "cell_type": "code",
   "execution_count": 64,
   "metadata": {
    "execution": {
     "iopub.execute_input": "2022-07-23T14:20:44.121855Z",
     "iopub.status.busy": "2022-07-23T14:20:44.121507Z",
     "iopub.status.idle": "2022-07-23T14:20:45.592985Z",
     "shell.execute_reply": "2022-07-23T14:20:45.591917Z",
     "shell.execute_reply.started": "2022-07-23T14:20:44.121826Z"
    },
    "id": "_gUBfC6cX4ef",
    "outputId": "b80dd378-2c68-4790-d3ec-0975f13fdcc4"
   },
   "outputs": [],
   "source": [
    "clf = BaggingClassifier()\n",
    "clf.fit(X_train, y_train)\n",
    "y_pred = clf.predict(X_test)\n",
    "f1_score_result = get_evalute(y_test,y_pred,f1_score_result)"
   ]
  },
  {
   "cell_type": "code",
   "execution_count": 65,
   "metadata": {
    "execution": {
     "iopub.execute_input": "2022-07-23T14:20:45.594845Z",
     "iopub.status.busy": "2022-07-23T14:20:45.594435Z",
     "iopub.status.idle": "2022-07-23T14:20:47.384960Z",
     "shell.execute_reply": "2022-07-23T14:20:47.383980Z",
     "shell.execute_reply.started": "2022-07-23T14:20:45.594800Z"
    },
    "id": "v4ujvKLFX4ef",
    "outputId": "9ba1f4b0-bc38-4683-c3e7-7e055c1b3a0e"
   },
   "outputs": [],
   "source": [
    "clf = ExtraTreesClassifier()\n",
    "clf.fit(X_train, y_train)\n",
    "y_pred = clf.predict(X_test)\n",
    "f1_score_result = get_evalute(y_test,y_pred,f1_score_result)"
   ]
  },
  {
   "cell_type": "code",
   "execution_count": 66,
   "metadata": {
    "execution": {
     "iopub.execute_input": "2022-07-23T14:20:47.386577Z",
     "iopub.status.busy": "2022-07-23T14:20:47.386164Z",
     "iopub.status.idle": "2022-07-23T14:21:38.239297Z",
     "shell.execute_reply": "2022-07-23T14:21:38.238568Z",
     "shell.execute_reply.started": "2022-07-23T14:20:47.386530Z"
    },
    "id": "ImhKz3ddX4eg",
    "outputId": "12a15c80-6b53-4957-81bb-c3eff0a026f5"
   },
   "outputs": [],
   "source": [
    "clf = GradientBoostingClassifier()\n",
    "clf.fit(X_train, y_train)\n",
    "y_pred = clf.predict(X_test)\n",
    "f1_score_result = get_evalute(y_test,y_pred,f1_score_result)"
   ]
  },
  {
   "cell_type": "code",
   "execution_count": 67,
   "metadata": {
    "execution": {
     "iopub.execute_input": "2022-07-23T14:21:38.241025Z",
     "iopub.status.busy": "2022-07-23T14:21:38.240297Z",
     "iopub.status.idle": "2022-07-23T14:21:41.872225Z",
     "shell.execute_reply": "2022-07-23T14:21:41.871023Z",
     "shell.execute_reply.started": "2022-07-23T14:21:38.240990Z"
    },
    "id": "hfmPZuS7X4eg",
    "outputId": "598c4983-fd77-4128-c7c3-ff6556564e69"
   },
   "outputs": [],
   "source": [
    "clf = HistGradientBoostingClassifier()\n",
    "clf.fit(X_train, y_train)\n",
    "y_pred = clf.predict(X_test)\n",
    "f1_score_result = get_evalute(y_test,y_pred,f1_score_result)"
   ]
  },
  {
   "cell_type": "code",
   "execution_count": null,
   "metadata": {
    "execution": {
     "iopub.execute_input": "2022-07-23T14:21:41.874150Z",
     "iopub.status.busy": "2022-07-23T14:21:41.873733Z"
    },
    "id": "oY33se1pX4eg",
    "outputId": "b5a5e562-929d-493d-b45c-76bdab166ce9"
   },
   "outputs": [],
   "source": [
    "xgbc = XGBClassifier()\n",
    "xgbc.fit(X_train, y_train)\n",
    "y_pred = xgbc.predict(X_test)\n",
    "f1_score_result = get_evalute(y_test,y_pred,f1_score_result)"
   ]
  },
  {
   "cell_type": "code",
   "execution_count": null,
   "metadata": {
    "id": "zlrjvDieHrTC",
    "outputId": "88d3e0db-9874-4664-a72a-a4ab20e2144f"
   },
   "outputs": [],
   "source": [
    "plot_importance(xgbc)"
   ]
  },
  {
   "cell_type": "code",
   "execution_count": null,
   "metadata": {
    "id": "vGxnUoAlX4eh",
    "outputId": "9ea9b39d-7975-4458-a320-bcef636fd71f"
   },
   "outputs": [],
   "source": [
    "LGBMC = LGBMClassifier()\n",
    "LGBMC.fit(X_train, y_train)\n",
    "y_pred = LGBMC.predict(X_test)\n",
    "f1_score_result = get_evalute(y_test,y_pred,f1_score_result)"
   ]
  },
  {
   "cell_type": "code",
   "execution_count": null,
   "metadata": {
    "id": "fGSvcDjjX4eh",
    "outputId": "6043f11c-0733-4389-ec25-89dde745a73d"
   },
   "outputs": [],
   "source": [
    "compare = pd.DataFrame({'Algorithms' : models , 'f1-score' : f1_score_result})\n",
    "compare.sort_values(by='f1-score' ,ascending=False)"
   ]
  },
  {
   "cell_type": "code",
   "execution_count": null,
   "metadata": {
    "id": "Rd5AZBheX4eh",
    "outputId": "fa33c4b8-9bd4-499c-e199-98f0bbf39832"
   },
   "outputs": [],
   "source": [
    "sns.factorplot(x='Algorithms', y='f1-score' , data=compare, size=6 , aspect=4)"
   ]
  },
  {
   "cell_type": "markdown",
   "metadata": {
    "id": "u1BtO5pQX4eh"
   },
   "source": [
    "# cross_val_score"
   ]
  },
  {
   "cell_type": "code",
   "execution_count": 74,
   "metadata": {
    "execution": {
     "iopub.execute_input": "2022-07-23T14:24:11.422967Z",
     "iopub.status.busy": "2022-07-23T14:24:11.422114Z",
     "iopub.status.idle": "2022-07-23T14:24:11.427318Z",
     "shell.execute_reply": "2022-07-23T14:24:11.426197Z",
     "shell.execute_reply.started": "2022-07-23T14:24:11.422926Z"
    },
    "id": "AULslPDeX4ei"
   },
   "outputs": [],
   "source": [
    "# GBModel=GradientBoostingClassifier()\n",
    "# GBModel_f1_scores = cross_val_score(GBModel, X_train, y_train,scoring=\"f1_micro\", cv=5)\n",
    "# # GBModel_f1_scores = np.sqrt(-GBModel_f1)\n",
    "# print(\"scores:\", GBModel_f1_scores)\n",
    "# print(\"Mean:\", GBModel_f1_scores.mean()) "
   ]
  },
  {
   "cell_type": "code",
   "execution_count": 75,
   "metadata": {
    "execution": {
     "iopub.execute_input": "2022-07-23T14:24:11.428991Z",
     "iopub.status.busy": "2022-07-23T14:24:11.428665Z",
     "iopub.status.idle": "2022-07-23T14:24:11.439163Z",
     "shell.execute_reply": "2022-07-23T14:24:11.438102Z",
     "shell.execute_reply.started": "2022-07-23T14:24:11.428961Z"
    },
    "id": "P76lDoOPX4ei"
   },
   "outputs": [],
   "source": [
    "# HGBModel=HistGradientBoostingClassifier()\n",
    "# HGBModel_f1_scores = cross_val_score(HGBModel, X_train, y_train,scoring=\"f1_micro\", cv=5)\n",
    "# # GBModel_f1_scores = np.sqrt(-GBModel_f1)\n",
    "# print(\"scores:\", HGBModel_f1_scores)\n",
    "# print(\"Mean:\", HGBModel_f1_scores.mean()) "
   ]
  },
  {
   "cell_type": "code",
   "execution_count": 76,
   "metadata": {
    "execution": {
     "iopub.execute_input": "2022-07-23T14:24:11.442866Z",
     "iopub.status.busy": "2022-07-23T14:24:11.440751Z",
     "iopub.status.idle": "2022-07-23T14:24:11.448743Z",
     "shell.execute_reply": "2022-07-23T14:24:11.447883Z",
     "shell.execute_reply.started": "2022-07-23T14:24:11.442814Z"
    },
    "id": "Q6oKSiE5X4ei"
   },
   "outputs": [],
   "source": [
    "# LGBModel=LGBMClassifier()\n",
    "# LGBModel_f1_scores = cross_val_score(LGBModel, X_train, y_train,scoring=\"f1_micro\", cv=5)\n",
    "# # GBModel_f1_scores = np.sqrt(-GBModel_f1)\n",
    "# print(\"scores:\", LGBModel_f1_scores)\n",
    "# print(\"Mean:\", LGBModel_f1_scores.mean()) "
   ]
  },
  {
   "cell_type": "code",
   "execution_count": 77,
   "metadata": {
    "execution": {
     "iopub.execute_input": "2022-07-23T14:24:11.451053Z",
     "iopub.status.busy": "2022-07-23T14:24:11.450489Z",
     "iopub.status.idle": "2022-07-23T14:24:11.459956Z",
     "shell.execute_reply": "2022-07-23T14:24:11.458916Z",
     "shell.execute_reply.started": "2022-07-23T14:24:11.451022Z"
    },
    "id": "JIdJ9UIb2jm8"
   },
   "outputs": [],
   "source": [
    "# rfclf=RandomForestClassifier()\n",
    "# rfclf_f1_scores = cross_val_score(rfclf, X_train, y_train,scoring=\"f1_micro\", cv=5)\n",
    "# # GBModel_f1_scores = np.sqrt(-GBModel_f1)\n",
    "# print(\"scores:\", rfclf_f1_scores)\n",
    "# print(\"Mean:\", rfclf_f1_scores.mean()) "
   ]
  },
  {
   "cell_type": "markdown",
   "metadata": {
    "id": "SCsV0YBOX4ei"
   },
   "source": [
    "# Voting Classifiers"
   ]
  },
  {
   "cell_type": "code",
   "execution_count": 78,
   "metadata": {
    "execution": {
     "iopub.execute_input": "2022-07-23T14:24:11.462951Z",
     "iopub.status.busy": "2022-07-23T14:24:11.461715Z",
     "iopub.status.idle": "2022-07-23T14:24:11.473028Z",
     "shell.execute_reply": "2022-07-23T14:24:11.471999Z",
     "shell.execute_reply.started": "2022-07-23T14:24:11.462903Z"
    },
    "id": "LT91dmc4X4ej",
    "outputId": "b7c65b69-2638-4607-aec8-0e4be34b1107"
   },
   "outputs": [],
   "source": [
    "# log_clf = LogisticRegression(solver=\"lbfgs\", random_state=42)\n",
    "# rnd_clf = RandomForestClassifier(n_estimators=100, random_state=42)\n",
    "# svm_clf = SVC(gamma=\"scale\", random_state=42)\n",
    "# GB_clf = GradientBoostingClassifier()\n",
    "# voting_clf = VotingClassifier(\n",
    "#     estimators=[('lr', log_clf), ('rf', rnd_clf), ('svc', svm_clf),(\"GB\",GB_clf)],\n",
    "#     voting='hard')\n",
    "# # voting_clf.fit(X_train, y_train)\n",
    "# for clf in (log_clf, rnd_clf, svm_clf,GB_clf, voting_clf):\n",
    "#     clf.fit(X_train, y_train)\n",
    "#     y_pred = clf.predict(X_test)\n",
    "#     print(clf.__class__.__name__, accuracy_score(y_test, y_pred),f1_score(y_test,y_pred,average=\"micro\"))"
   ]
  },
  {
   "cell_type": "code",
   "execution_count": 79,
   "metadata": {
    "execution": {
     "iopub.execute_input": "2022-07-23T14:24:11.474878Z",
     "iopub.status.busy": "2022-07-23T14:24:11.474448Z",
     "iopub.status.idle": "2022-07-23T14:24:11.483133Z",
     "shell.execute_reply": "2022-07-23T14:24:11.482029Z",
     "shell.execute_reply.started": "2022-07-23T14:24:11.474804Z"
    },
    "id": "vwHqid-7X4ej"
   },
   "outputs": [],
   "source": [
    "# log_clf = LogisticRegression(solver=\"lbfgs\", random_state=42)\n",
    "# rnd_clf = RandomForestClassifier(n_estimators=100, random_state=42)\n",
    "# svm_clf = SVC(gamma=\"scale\", probability=True, random_state=42)\n",
    "# GB_clf = GradientBoostingClassifier()\n",
    "# voting_clf = VotingClassifier(\n",
    "#     estimators=[('lr', log_clf), ('rf', rnd_clf), ('svc', svm_clf),(\"GB\",GB_clf)],\n",
    "#     voting='soft')\n",
    "# # voting_clf.fit(X_train, y_train)\n",
    "# # for clf in (log_clf, rnd_clf, svm_clf,GB_clf):\n",
    "# #     clf.fit(X_train, y_train)\n",
    "# #     y_pred = clf.predict(X_test)\n",
    "# #     print(clf.__class__.__name__, accuracy_score(y_test, y_pred),f1_score(y_test,y_pred,average=\"micro\"))\n",
    "# voting_clf.fit(X_train, y_train)\n",
    "# y_pred = clf.predict_proba(X_test)\n",
    "# print(clf.__class__.__name__, accuracy_score(y_test, y_pred),f1_score(y_test,y_pred,average=\"micro\"))"
   ]
  },
  {
   "cell_type": "markdown",
   "metadata": {
    "id": "UWLlXwNuX4ej"
   },
   "source": [
    "# Bagging and Pasting"
   ]
  },
  {
   "cell_type": "code",
   "execution_count": 80,
   "metadata": {
    "execution": {
     "iopub.execute_input": "2022-07-23T14:24:11.486712Z",
     "iopub.status.busy": "2022-07-23T14:24:11.485749Z",
     "iopub.status.idle": "2022-07-23T14:24:11.493350Z",
     "shell.execute_reply": "2022-07-23T14:24:11.492517Z",
     "shell.execute_reply.started": "2022-07-23T14:24:11.486680Z"
    },
    "id": "0i4pJ1VuX4ek",
    "outputId": "486ea361-0c35-40bc-b848-5f5b43e43bbc"
   },
   "outputs": [],
   "source": [
    "# bag_DT_clf = BaggingClassifier(\n",
    "#     DecisionTreeClassifier(), n_estimators=500,\n",
    "#     max_samples=100, bootstrap=True, random_state=42)\n",
    "# bag_DT_clf.fit(X_train, y_train)\n",
    "# y_pred = bag_DT_clf.predict(X_test)\n",
    "# accuracy_score(y_test, y_pred),f1_score(y_test,y_pred,average=\"micro\")"
   ]
  },
  {
   "cell_type": "code",
   "execution_count": 81,
   "metadata": {
    "execution": {
     "iopub.execute_input": "2022-07-23T14:24:11.498614Z",
     "iopub.status.busy": "2022-07-23T14:24:11.498082Z",
     "iopub.status.idle": "2022-07-23T14:24:11.503040Z",
     "shell.execute_reply": "2022-07-23T14:24:11.502140Z",
     "shell.execute_reply.started": "2022-07-23T14:24:11.498582Z"
    },
    "id": "1b1Bf-YMX4ek"
   },
   "outputs": [],
   "source": [
    "# bag_GB_clf = BaggingClassifier(\n",
    "#     GradientBoostingClassifier(), n_estimators=500,\n",
    "#     max_samples=100, bootstrap=True, random_state=42)\n",
    "# bag_GB_clf.fit(X_train, y_train)\n",
    "# y_pred = bag_GB_clf.predict(X_test)\n",
    "# accuracy_score(y_test, y_pred),f1_score(y_test,y_pred,average=\"micro\")"
   ]
  },
  {
   "cell_type": "code",
   "execution_count": 82,
   "metadata": {
    "execution": {
     "iopub.execute_input": "2022-07-23T14:24:11.504380Z",
     "iopub.status.busy": "2022-07-23T14:24:11.504066Z",
     "iopub.status.idle": "2022-07-23T14:24:11.516030Z",
     "shell.execute_reply": "2022-07-23T14:24:11.514856Z",
     "shell.execute_reply.started": "2022-07-23T14:24:11.504352Z"
    },
    "id": "ZDhNpPq3X4ek"
   },
   "outputs": [],
   "source": [
    "# bag_HB_clf = BaggingClassifier(\n",
    "#     HistGradientBoostingClassifier(), n_estimators=500,\n",
    "#     max_samples=100, bootstrap=True, random_state=42)\n",
    "# bag_HB_clf.fit(X_train, y_train)\n",
    "# y_pred = bag_HB_clf.predict(X_test)\n",
    "# accuracy_score(y_test, y_pred),f1_score(y_test,y_pred,average=\"micro\")"
   ]
  },
  {
   "cell_type": "code",
   "execution_count": null,
   "metadata": {
    "id": "UHemqtdBX4ek"
   },
   "outputs": [],
   "source": [
    "# bag_LGM_clf = BaggingClassifier(\n",
    "#     LGBMClassifier(), n_estimators=500,\n",
    "#     max_samples=100, bootstrap=True, random_state=42)\n",
    "# bag_LGM_clf.fit(X_train, y_train)\n",
    "# y_pred = bag_LGM_clf.predict(X_test)\n",
    "# accuracy_score(y_test, y_pred),f1_score(y_test,y_pred,average=\"micro\")"
   ]
  },
  {
   "cell_type": "markdown",
   "metadata": {
    "id": "s0lPB16LX4el"
   },
   "source": [
    "# Out-of-Bag Evaluation"
   ]
  },
  {
   "cell_type": "code",
   "execution_count": null,
   "metadata": {
    "id": "lB48IiOdX4el"
   },
   "outputs": [],
   "source": [
    "# bag_clf = BaggingClassifier(\n",
    "#     DecisionTreeClassifier(), n_estimators=500,\n",
    "#     bootstrap=True, oob_score=True, random_state=40)\n",
    "# bag_clf.fit(X_train, y_train)\n",
    "# bag_clf.oob_score_"
   ]
  },
  {
   "cell_type": "code",
   "execution_count": null,
   "metadata": {
    "id": "eXYE-l59X4el"
   },
   "outputs": [],
   "source": [
    "# y_pred = bag_clf.predict(X_test)\n",
    "# accuracy_score(y_test, y_pred),f1_score(y_test,y_pred,average=\"micro\")"
   ]
  },
  {
   "cell_type": "code",
   "execution_count": null,
   "metadata": {
    "execution": {
     "iopub.execute_input": "2022-07-17T07:11:04.432460Z",
     "iopub.status.busy": "2022-07-17T07:11:04.432098Z",
     "iopub.status.idle": "2022-07-17T11:55:09.935262Z",
     "shell.execute_reply": "2022-07-17T11:55:09.934076Z",
     "shell.execute_reply.started": "2022-07-17T07:11:04.432431Z"
    },
    "id": "oBnxG3NoX4el"
   },
   "outputs": [],
   "source": [
    "# bag_clf = BaggingClassifier(\n",
    "#     GradientBoostingClassifier(), n_estimators=500,\n",
    "#     bootstrap=True, oob_score=True, random_state=40)\n",
    "# bag_clf.fit(X_train, y_train)\n",
    "# bag_clf.oob_score_ #0.5788468218131295"
   ]
  },
  {
   "cell_type": "code",
   "execution_count": null,
   "metadata": {
    "execution": {
     "iopub.execute_input": "2022-07-17T11:55:09.937442Z",
     "iopub.status.busy": "2022-07-17T11:55:09.937028Z",
     "iopub.status.idle": "2022-07-17T11:55:34.672697Z",
     "shell.execute_reply": "2022-07-17T11:55:34.671909Z",
     "shell.execute_reply.started": "2022-07-17T11:55:09.937411Z"
    },
    "id": "RTqjF9qpX4em"
   },
   "outputs": [],
   "source": [
    "# y_pred = bag_clf.predict(X_test)\n",
    "# accuracy_score(y_test, y_pred),f1_score(y_test,y_pred,average=\"micro\")# 0.5711805555555556"
   ]
  },
  {
   "cell_type": "markdown",
   "metadata": {
    "id": "FaXLIltNX4em"
   },
   "source": [
    "# Boosting\n",
    "AdaBoost"
   ]
  },
  {
   "cell_type": "code",
   "execution_count": null,
   "metadata": {
    "id": "kqJSQvUHX4em"
   },
   "outputs": [],
   "source": [
    "# ada_clf = AdaBoostClassifier(\n",
    "#     DecisionTreeClassifier(max_depth=1), n_estimators=100, learning_rate=0.1, random_state=42)\n",
    "# ada_clf.fit(X_train, y_train)\n",
    "# y_pred = ada_clf.predict(X_test)\n",
    "# accuracy_score(y_test, y_pred)"
   ]
  },
  {
   "cell_type": "markdown",
   "metadata": {
    "id": "B3RcAb89X4em"
   },
   "source": [
    "Gradient Boosting\n"
   ]
  },
  {
   "cell_type": "code",
   "execution_count": null,
   "metadata": {
    "execution": {
     "iopub.execute_input": "2022-07-14T10:38:01.479126Z",
     "iopub.status.busy": "2022-07-14T10:38:01.477557Z",
     "iopub.status.idle": "2022-07-14T10:38:21.041292Z",
     "shell.execute_reply": "2022-07-14T10:38:21.040121Z",
     "shell.execute_reply.started": "2022-07-14T10:38:01.479066Z"
    },
    "id": "rsLzkFbsX4en"
   },
   "outputs": [],
   "source": [
    "# gbrt = GradientBoostingClassifier(max_depth=1, n_estimators=100, learning_rate=0.1, random_state=42)\n",
    "# gbrt.fit(X_train, y_train)\n",
    "# y_pred = gbrt.predict(X_test)\n",
    "# accuracy_score(y_test, y_pred) #0.5239583333333333"
   ]
  },
  {
   "cell_type": "markdown",
   "metadata": {
    "id": "5GezYfEAX4en"
   },
   "source": [
    "# Stacking"
   ]
  },
  {
   "cell_type": "code",
   "execution_count": null,
   "metadata": {
    "id": "mZytCQcMX4en"
   },
   "outputs": [],
   "source": [
    "# from sklearn.pipeline import make_pipeline\n",
    "# estimators = [\n",
    "#     ('rf', GradientBoostingClassifier(n_estimators=10, random_state=42)),\n",
    "#     ('svr', make_pipeline(StandardScaler(),\n",
    "#                           LinearSVC(random_state=42)))\n",
    "# ]\n",
    "# clf = StackingClassifier(estimators=estimators, final_estimator=GradientBoostingClassifier())\n",
    "# clf.fit(X_train, y_train).score(X_test, y_test)"
   ]
  },
  {
   "cell_type": "markdown",
   "metadata": {},
   "source": [
    "# GridSearchCV"
   ]
  },
  {
   "cell_type": "code",
   "execution_count": null,
   "metadata": {
    "id": "z76bASwPX4en"
   },
   "outputs": [],
   "source": [
    "# from sklearn.ensemble import GradientBoostingClassifier\n",
    "\n",
    "# from sklearn.model_selection import GridSearchCV\n",
    "# from sklearn.metrics import accuracy_score\n",
    "# from sklearn.metrics import precision_score\n",
    "# from sklearn.metrics import recall_score\n",
    "# from sklearn.metrics import make_scorer\n",
    "# #creating Scoring parameter: \n",
    "# scoring = {'accuracy': make_scorer(accuracy_score),\n",
    "#            'precision': make_scorer(precision_score),'recall':make_scorer(recall_score)}\n",
    "\n",
    "# # A sample parameter\n",
    "\n",
    "# parameters = {\n",
    "#     \"loss\":[\"deviance\"],\n",
    "#     \"learning_rate\": [0.01, 0.025, 0.05, 0.075, 0.1, 0.15, 0.2],\n",
    "#     \"min_samples_split\": np.linspace(0.1, 0.5, 12),\n",
    "#     \"min_samples_leaf\": np.linspace(0.1, 0.5, 12),\n",
    "#     \"max_depth\":[3,5,8],\n",
    "#     \"max_features\":[\"log2\",\"sqrt\"],\n",
    "#     \"criterion\": [\"friedman_mse\",  \"mae\"],\n",
    "#     \"subsample\":[0.5, 0.618, 0.8, 0.85, 0.9, 0.95, 1.0],\n",
    "#     \"n_estimators\":[10]\n",
    "#     }\n",
    "# #passing the scoring function in the GridSearchCV\n",
    "# clf = GridSearchCV(GradientBoostingClassifier(), parameters,scoring=scoring,refit=False,cv=2, n_jobs=-1)\n",
    "\n",
    "# clf.fit(X_train, y_train)\n",
    "# #converting the clf.cv_results to dataframe\n",
    "# df=pd.DataFrame.from_dict(clf.cv_results_)\n",
    "# #here Possible inputs for cross validation is cv=2, there two split split0 and split1\n",
    "# df[['split0_test_accuracy','split1_test_accuracy','split0_test_precision','split1_test_precision','split0_test_recall','split1_test_recall']]"
   ]
  },
  {
   "cell_type": "code",
   "execution_count": null,
   "metadata": {
    "id": "fI5rsqtLX4eo"
   },
   "outputs": [],
   "source": [
    "# df['accuracy_score']=(df['split0_test_accuracy']+df['split1_test_accuracy'])/2\n",
    "\n",
    "# df.loc[df['accuracy_score'].idxmax()]['params']"
   ]
  },
  {
   "cell_type": "code",
   "execution_count": null,
   "metadata": {
    "execution": {
     "iopub.execute_input": "2022-07-14T10:38:21.044785Z",
     "iopub.status.busy": "2022-07-14T10:38:21.044019Z",
     "iopub.status.idle": "2022-07-14T10:38:21.050481Z",
     "shell.execute_reply": "2022-07-14T10:38:21.048931Z",
     "shell.execute_reply.started": "2022-07-14T10:38:21.044739Z"
    },
    "id": "rObB4GyvX4eo"
   },
   "outputs": [],
   "source": [
    "# clf =GradientBoostingClassifier(criterion='mae',learning_rate=0.1,loss='deviance',max_depth= 5,max_features='sqrt',min_samples_leaf= 0.1,\n",
    "#                                 min_samples_split= 0.42727272727272736,n_estimators=10,subsample=0.8)\n",
    "# clf.fit(X_train, y_train)\n",
    "# # correct_test = correct_data(test)\n",
    "# # testX = correct_test[predictor].values\n",
    "# result = clf.predict(X_test)\n",
    "# accuracy_score(y_test, y_pred)"
   ]
  },
  {
   "cell_type": "code",
   "execution_count": null,
   "metadata": {
    "id": "gRENWyLsX4eo"
   },
   "outputs": [],
   "source": []
  },
  {
   "cell_type": "code",
   "execution_count": null,
   "metadata": {
    "execution": {
     "iopub.execute_input": "2022-07-17T11:55:34.674332Z",
     "iopub.status.busy": "2022-07-17T11:55:34.673887Z"
    },
    "id": "DZbk6-0fX4eo"
   },
   "outputs": [],
   "source": [
    "# parameters = {'learning_rate': [0.01,0.05,0.1],\n",
    "#                   'subsample'    : [0.9, 0.5, 0.2],\n",
    "#                   'n_estimators' : [100,500,1000],\n",
    "#                   'max_depth'    : [4,6,8]\n",
    "#                  }\n",
    "# GBC = GradientBoostingClassifier()\n",
    "# grid_GBC = GridSearchCV(estimator=GBC, param_grid = parameters, cv = 5, n_jobs=-1)\n",
    "# grid_GBC.fit(X_train, y_train)\n",
    "# print(\" Results from Grid Search\")\n",
    "# print(\"\\n The best estimator across ALL searched params:\\n\",grid_GBC.best_estimator_)\n",
    "# print(\"\\n The best score across ALL searched params:\\n\",grid_GBC.best_score_)\n",
    "# print(\"\\n The best parameters across ALL searched params:\\n\",grid_GBC.best_params_)\n",
    "\n",
    "\n",
    "#  Results from Grid Search\n",
    "\n",
    "#  The best estimator across ALL searched params:\n",
    "#  GradientBoostingClassifier(learning_rate=0.01, max_depth=4, n_estimators=500,\n",
    "#                            subsample=0.5)\n",
    "\n",
    "#  The best score across ALL searched params:\n",
    "#  0.5738095991942875\n",
    "\n",
    "#  The best parameters across ALL searched params:\n",
    "#  {'learning_rate': 0.01, 'max_depth': 4, 'n_estimators': 500, 'subsample': 0.5}\n",
    "\n"
   ]
  },
  {
   "cell_type": "code",
   "execution_count": null,
   "metadata": {
    "id": "aLpb0l2wX4ep"
   },
   "outputs": [],
   "source": []
  },
  {
   "cell_type": "code",
   "execution_count": null,
   "metadata": {
    "id": "YTf-FK6KX4ep"
   },
   "outputs": [],
   "source": [
    "# p_test3 = {'learning_rate':[0.15,0.1,0.05,0.01,0.005,0.001], 'n_estimators':[100,250,500,750,1000,1250,1500,1750]}\n",
    "\n",
    "# tuning = GridSearchCV(estimator =GradientBoostingClassifier(max_depth=4, min_samples_split=2, min_samples_leaf=1, subsample=1,max_features='sqrt', random_state=10), \n",
    "#             param_grid = p_test3, scoring='accuracy',n_jobs=4, cv=5)\n",
    "# tuning.fit(X_train,y_train)\n",
    "# tuning.best_params_, tuning.best_score_"
   ]
  },
  {
   "cell_type": "code",
   "execution_count": null,
   "metadata": {
    "id": "H7G-0_tsX4ep"
   },
   "outputs": [],
   "source": []
  },
  {
   "cell_type": "code",
   "execution_count": null,
   "metadata": {
    "id": "wrKyCKLZX4ep"
   },
   "outputs": [],
   "source": [
    "# p_test2 = {'max_depth':[2,3,4,5,6,7] }\n",
    "# tuning = GridSearchCV(estimator =GradientBoostingClassifier(learning_rate=0.01,n_estimators=1500, min_samples_split=2, min_samples_leaf=1, subsample=1,max_features='sqrt', random_state=10), \n",
    "#             param_grid = p_test2, scoring='accuracy',n_jobs=4, cv=5)\n",
    "# tuning.fit(X_train,y_train)\n",
    "# tuning.best_estimator_, tuning.best_params_, tuning.best_score_"
   ]
  },
  {
   "cell_type": "code",
   "execution_count": null,
   "metadata": {
    "execution": {
     "iopub.execute_input": "2022-07-14T19:40:58.658924Z",
     "iopub.status.busy": "2022-07-14T19:40:58.658568Z"
    },
    "id": "urM14o6xX4er"
   },
   "outputs": [],
   "source": [
    "# parameters = {\n",
    "#     \"loss\":[\"deviance\"],\n",
    "#     \"learning_rate\": [0.01, 0.05, 0.075, 0.1],\n",
    "#     \"min_samples_split\": np.linspace(0.1, 0.5, 5),\n",
    "#     \"min_samples_leaf\": np.linspace(0.1, 0.5, 5),\n",
    "#     \"max_depth\":[3,5,8],\n",
    "#     \"max_features\":[\"log2\",\"sqrt\"],\n",
    "#     \"criterion\": [\"friedman_mse\",  \"mae\"],\n",
    "#     \"subsample\":[0.5, 0.618, 0.8, 0.9, 0.95, 1.0],\n",
    "#     \"n_estimators\":[500]\n",
    "#     }\n",
    "\n",
    "# clf = GridSearchCV(GradientBoostingClassifier(), parameters, cv=10, n_jobs=-1)\n",
    "\n",
    "# clf.fit(X_train, y_train)\n",
    "# print(clf.score(X_train, y_train))\n",
    "# print(clf.best_params_)"
   ]
  },
  {
   "cell_type": "code",
   "execution_count": null,
   "metadata": {
    "id": "a0rE261SX4es"
   },
   "outputs": [],
   "source": [
    "# p_test4 = {'min_samples_split':[2,4,6,8,10,20,40,60,100], 'min_samples_leaf':[1,3,5,7,9]}\n",
    "\n",
    "# tuning = GridSearchCV(estimator =GradientBoostingClassifier(learning_rate=0.01, n_estimators=1500,max_depth=4, subsample=1,max_features='sqrt', random_state=10), \n",
    "#             param_grid = p_test4, scoring='accuracy',n_jobs=4, cv=5)\n",
    "# tuning.fit(X_train,y_train)\n",
    "# tuning.best_params_, tuning.best_score_"
   ]
  },
  {
   "cell_type": "code",
   "execution_count": null,
   "metadata": {
    "id": "TRWlxS7SX4es"
   },
   "outputs": [],
   "source": [
    "# from sklearn import metrics\n",
    "# from sklearn.metrics import roc_auc_score\n",
    "# from sklearn.metrics import roc_curve \n",
    "\n",
    "\n",
    "# #run models\n",
    "# baseline = GradientBoostingClassifier(learning_rate=0.1, n_estimators=100,max_depth=3, min_samples_split=2, min_samples_leaf=1, subsample=1,max_features='sqrt', random_state=10)\n",
    "# baseline.fit(X_train,y_train)\n",
    "\n",
    "# y_pred = baseline.predict(X_test)\n",
    "# print(accuracy_score(y_test, y_pred))\n",
    "\n",
    "# model1 = GradientBoostingClassifier(learning_rate=0.01, n_estimators=1500,max_depth=4, min_samples_split=2, min_samples_leaf=1, subsample=1,max_features='sqrt', random_state=10)\n",
    "# model1.fit(X_train,y_train)\n",
    "\n",
    "# y_pred = model1.predict(X_test)\n",
    "# print(accuracy_score(y_test, y_pred))\n",
    "\n",
    "# new=GradientBoostingClassifier(learning_rate=0.01, n_estimators=1500,max_depth=4, min_samples_split=40, min_samples_leaf=7,max_features=4 , subsample=0.95, random_state=10)\n",
    "# new.fit(X_train,y_train)\n",
    "\n",
    "# y_pred = new.predict(X_test)\n",
    "# print(accuracy_score(y_test, y_pred))\n"
   ]
  },
  {
   "cell_type": "code",
   "execution_count": null,
   "metadata": {
    "id": "nMqVQy9aX4et"
   },
   "outputs": [],
   "source": [
    "# param_grid = {\n",
    "#     'num_leaves': [31, 127],\n",
    "#     'reg_alpha': [0.1, 0.5],\n",
    "#     'min_data_in_leaf': [30, 50, 100, 300, 400],\n",
    "#     'lambda_l1': [0, 1, 1.5],\n",
    "#     'lambda_l2': [0, 1]\n",
    "#     }\n",
    "\n",
    "# lgb_estimator = LGBMClassifier()\n",
    "# # lgb_estimator = LGBMClassifier()\n",
    "\n",
    "# gsearch = GridSearchCV(estimator=lgb_estimator, param_grid=param_grid,scoring=\"accuracy\" ,cv=5)\n",
    "# lgb_model = gsearch.fit(X=X_train, y=y_train)\n",
    "# print(lgb_model.score(X_train, y_train))\n",
    "# print(lgb_model.best_params_)\n",
    "# print(lgb_model.best_score_)\n",
    "# lgb_model.score(X_test, y_test)"
   ]
  },
  {
   "cell_type": "code",
   "execution_count": null,
   "metadata": {
    "id": "LOGrOsf3gV7H"
   },
   "outputs": [],
   "source": [
    "\n",
    "# xgbc = LGBMClassifier(  lambda_l1= 1.5, lambda_l2= 0,min_data_in_leaf= 100, num_leaves= 31, reg_alpha= 0.1)\n",
    "# xgbc.fit(X_train, y_train)\n",
    "# y_pred = xgbc.predict(X_test)\n",
    "# f1_score_result = get_evalute(y_test,y_pred,f1_score_result)"
   ]
  },
  {
   "cell_type": "code",
   "execution_count": null,
   "metadata": {
    "id": "PpV2rgmKX4et"
   },
   "outputs": [],
   "source": [
    "# gridParams = {\n",
    "#     'learning_rate': [0.005, 0.01],\n",
    "#     'n_estimators': [8,16,24],\n",
    "#     'num_leaves': [6,8,12,16], # large num_leaves helps improve accuracy but might lead to over-fitting\n",
    "#     'boosting_type' : ['gbdt', 'dart'], # for better accuracy -> try dart\n",
    "#     'objective' : ['binary'],\n",
    "#     'max_bin':[255, 510], # large max_bin helps improve accuracy but might slow down training progress\n",
    "#     'random_state' : [500],\n",
    "#     'colsample_bytree' : [0.64, 0.65, 0.66],\n",
    "#     'subsample' : [0.7,0.75],\n",
    "#     'reg_alpha' : [1,1.2],\n",
    "#     'reg_lambda' : [1,1.2,1.4],\n",
    "#     }\n",
    "# # lgb_estimator = LGBMClassifier()\n",
    "\n",
    "# grid = GridSearchCV(LGBMClassifier(), gridParams, verbose=1, cv=4, n_jobs=-1)\n",
    "# # Run the grid\n",
    "# grid.fit(X_train, y_train)\n",
    "\n",
    "# # Print the best parameters found\n",
    "# print(grid.best_params_)\n",
    "# print(grid.best_score_)"
   ]
  },
  {
   "cell_type": "code",
   "execution_count": null,
   "metadata": {
    "execution": {
     "iopub.execute_input": "2022-07-14T13:38:35.018273Z",
     "iopub.status.busy": "2022-07-14T13:38:35.017352Z",
     "iopub.status.idle": "2022-07-14T15:45:42.012220Z",
     "shell.execute_reply": "2022-07-14T15:45:42.011351Z",
     "shell.execute_reply.started": "2022-07-14T13:38:35.018240Z"
    },
    "id": "YzjwnZ8sX4et"
   },
   "outputs": [],
   "source": [
    "# lgb=LGBMClassifier()\n",
    "# #Define the parameters\n",
    "# parameters = {'num_leaves':[20,40,60,80,100], 'min_child_samples':[5,10,15],'max_depth':[-1,5,10,20],\n",
    "#              'learning_rate':[0.05,0.1,0.2],'reg_alpha':[0,0.01,0.03]}\n",
    "# #Define the scoring\n",
    "# clf=GridSearchCV(lgb,parameters,scoring='accuracy')\n",
    "# clf.fit(X=X_train, y=y_train)\n",
    "# print(clf.best_params_)\n",
    "# predicted=clf.predict(X_test)\n",
    "# print('Classification of the result is:')\n",
    "# print(accuracy_score(y_test, predicted))\n",
    "# # {'learning_rate': 0.05, 'max_depth': 5, 'min_child_samples': 10, 'num_leaves': 20, 'reg_alpha': 0.03}\n",
    "# # Classification of the result is:\n",
    "# # 0.5746527777777778"
   ]
  },
  {
   "cell_type": "code",
   "execution_count": null,
   "metadata": {
    "execution": {
     "iopub.execute_input": "2022-07-14T10:39:48.967694Z",
     "iopub.status.busy": "2022-07-14T10:39:48.967236Z",
     "iopub.status.idle": "2022-07-14T10:39:50.616509Z",
     "shell.execute_reply": "2022-07-14T10:39:50.615543Z",
     "shell.execute_reply.started": "2022-07-14T10:39:48.967662Z"
    },
    "id": "69C5aQBPX4et"
   },
   "outputs": [],
   "source": [
    "# clf = LGBMClassifier(learning_rate= 0.05, max_depth= -1, min_child_samples= 15, num_leaves= 20, reg_alpha= 0)\n",
    "# clf.fit(X_train,y_train)\n",
    "# predicted=clf.predict(X_test)\n",
    "# print('Classification of the result is:')\n",
    "# print(accuracy_score(y_test, predicted))# 0.5711805555555556 #0.575"
   ]
  },
  {
   "cell_type": "code",
   "execution_count": null,
   "metadata": {
    "id": "7W9v3MCV2EuU"
   },
   "outputs": [],
   "source": [
    "# clf = LGBMClassifier(learning_rate= 0.05, max_depth= -1, min_child_samples= 15, num_leaves= 20, reg_alpha= 0)\n",
    "# clf.fit(train,targets)"
   ]
  },
  {
   "cell_type": "code",
   "execution_count": 83,
   "metadata": {
    "execution": {
     "iopub.execute_input": "2022-07-23T14:24:11.518148Z",
     "iopub.status.busy": "2022-07-23T14:24:11.517630Z",
     "iopub.status.idle": "2022-07-23T14:29:51.427766Z",
     "shell.execute_reply": "2022-07-23T14:29:51.426387Z",
     "shell.execute_reply.started": "2022-07-23T14:24:11.518115Z"
    }
   },
   "outputs": [],
   "source": [
    "clf = GradientBoostingClassifier(learning_rate=0.01, max_depth=4, n_estimators=800,subsample=0.6)\n",
    "clf.fit(X_train,y_train)\n",
    "predicted=clf.predict(X_test)\n",
    "print('Classification of the result is:')\n",
    "print(accuracy_score(y_test, predicted)) # 0.5788194444444444"
   ]
  },
  {
   "cell_type": "code",
   "execution_count": null,
   "metadata": {},
   "outputs": [],
   "source": [
    "clf = GradientBoostingClassifier(learning_rate=0.01, max_depth=4, n_estimators=800,subsample=0.6)\n",
    "clf.fit(train,targets)"
   ]
  },
  {
   "cell_type": "code",
   "execution_count": null,
   "metadata": {
    "id": "OOnbbErCX4et"
   },
   "outputs": [],
   "source": [
    "y_pred=clf.predict(test)\n",
    "y_pred"
   ]
  },
  {
   "cell_type": "code",
   "execution_count": null,
   "metadata": {
    "id": "7ah9mienX4et"
   },
   "outputs": [],
   "source": [
    "y_pred.shape"
   ]
  },
  {
   "cell_type": "code",
   "execution_count": null,
   "metadata": {
    "id": "ywvGwaMHX4eu"
   },
   "outputs": [],
   "source": [
    "submission_file = pd.read_csv(\"/content/drive/MyDrive/ShAi/Task 11/music project/sample_submission (2).csv\")\n",
    "print(submission_file)\n",
    "submission_file['Class'] = y_pred\n",
    "submission_file.to_csv('/content/drive/MyDrive/ShAi/Task 11/music project/submission.csv', index=False)"
   ]
  }
 ],
 "metadata": {
  "kernelspec": {
   "display_name": "Python 3",
   "language": "python",
   "name": "python3"
  },
  "language_info": {
   "codemirror_mode": {
    "name": "ipython",
    "version": 3
   },
   "file_extension": ".py",
   "mimetype": "text/x-python",
   "name": "python",
   "nbconvert_exporter": "python",
   "pygments_lexer": "ipython3",
   "version": "3.7.12"
  }
 },
 "nbformat": 4,
 "nbformat_minor": 4
}
